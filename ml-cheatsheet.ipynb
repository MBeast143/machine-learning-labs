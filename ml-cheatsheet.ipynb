{
 "cells": [
  {
   "cell_type": "markdown",
   "metadata": {},
   "source": [
    "# Data Science Workflow with Python Cheatsheet\n",
    "\n",
    "-----"
   ]
  },
  {
   "cell_type": "markdown",
   "metadata": {},
   "source": [
    "## 1. Import Data\n",
    "\n",
    "- Pandas\n",
    "- sqlite3\n",
    "- SQLAlchemy\n",
    "- Context Manager\n",
    "- Glob\n",
    "--------"
   ]
  },
  {
   "cell_type": "markdown",
   "metadata": {},
   "source": [
    "## 2. Wrangle Data\n",
    "\n",
    "__NumPy__\n",
    "\n",
    "- data structures\n",
    "- groupby\n",
    "- joins and merge\n",
    "- reshape\n",
    "-------- "
   ]
  },
  {
   "cell_type": "markdown",
   "metadata": {},
   "source": [
    "## 3. Transformations\n",
    "\n",
    "__NumPy__\n",
    "\n",
    "- text\n",
    "- time series\n",
    "- categorical\n",
    "- missing values\n",
    "------ "
   ]
  },
  {
   "cell_type": "markdown",
   "metadata": {},
   "source": [
    "## 4. Visualization\n",
    "\n",
    "- matplotlib\n",
    "- plotly\n",
    "- plotnine\n",
    "- seaborn\n",
    "- bokeh\n",
    "-------"
   ]
  },
  {
   "cell_type": "markdown",
   "metadata": {},
   "source": [
    "## 5. Modeling\n",
    "\n",
    "- scikit-learn\n",
    "- statsmodels\n",
    "- TensorFlow\n",
    "- Keras\n",
    "- Pycaret\n",
    "------- "
   ]
  },
  {
   "cell_type": "markdown",
   "metadata": {},
   "source": [
    "## 6. Results Communication\n",
    "\n",
    "- JupyterLab\n",
    "- Dash\n",
    "- Streamlit\n",
    "- Flask\n",
    "- FastAPI\n",
    "------------"
   ]
  },
  {
   "cell_type": "markdown",
   "metadata": {},
   "source": [
    "# Special Topics\n",
    "------"
   ]
  },
  {
   "cell_type": "markdown",
   "metadata": {},
   "source": [
    "## 1. Machine Learning\n",
    "\n",
    "- Scikit-learn - ML in python\n",
    "- H2O - AutoML & Scalable\n",
    "- PyCaret - Low Code ML\n",
    "- ML Packages: XGBoost, AdaBoost, CatBoost, LightGBM\n",
    "-------"
   ]
  },
  {
   "cell_type": "markdown",
   "metadata": {},
   "source": [
    "## 2. Feature Engineering\n",
    "\n",
    "- Sklearn Data Transformations\n",
    "- category_encoders - Categorical Encoding\n",
    "- imbalanced-learn - Resampling for Imbalanced\n",
    "--------"
   ]
  },
  {
   "cell_type": "markdown",
   "metadata": {},
   "source": [
    "## 3. Text Analysis and NLP\n",
    "\n",
    "- NLTK - Text Tokenization & Modeling\n",
    "- spaCy - NLP using Cython for Speed\n",
    "------- "
   ]
  },
  {
   "cell_type": "markdown",
   "metadata": {},
   "source": [
    "## 4. Recommendation Systems\n",
    "\n",
    "- Annoy - Approximate Nearest Neighbors\n",
    "- LightFM - Popular recommendation algorithms\n",
    "-------- "
   ]
  },
  {
   "cell_type": "markdown",
   "metadata": {},
   "source": [
    "## 5. Deep Learning\n",
    "\n",
    "- TensorFlow & Keras\n",
    "- PyTorch\n",
    "- MXNet, Gloun & GluonTS\n",
    "--------  "
   ]
  },
  {
   "cell_type": "markdown",
   "metadata": {},
   "source": [
    "## 6. Image Processing & Computer Vision\n",
    "\n",
    "- OpenCV - Open Source Computer Vision\n",
    "- Scikit Image - Image Processing\n",
    "- Pillow - PYthon Imaging Library\n",
    "------- "
   ]
  },
  {
   "cell_type": "markdown",
   "metadata": {},
   "source": [
    "## 7. Time Series Forecasting\n",
    "\n",
    "- statsmodels - Time Series Analysis\n",
    "- sktime - Scikit-Learn Extenstion for Time Series / pytimetk\n",
    "- GluonTS - MXNet/Gluon DL for Time Series\n",
    "\n",
    "### Time Series Features\n",
    "\n",
    "- pytimetk\n",
    "- TSFresh - Time Series Feature Engineering\n",
    "- tslearn - Time Series Features\n",
    "- Pandas - Time Series\n",
    "- Arrow - Huma-Friendly Time\n",
    "------- "
   ]
  },
  {
   "cell_type": "markdown",
   "metadata": {},
   "source": [
    "## 8. Exploratory Data Analysis\n",
    "\n",
    "- skim\n",
    "- pandas-profiling\n",
    "- SweetViz\n",
    "- lux\n",
    "-------- "
   ]
  },
  {
   "cell_type": "markdown",
   "metadata": {},
   "source": [
    "## 9. Web Scrapping\n",
    "\n",
    "- beautifulsoup - Extract data from HTML\n",
    "- requests-html - HTML Parsing\n",
    "------- "
   ]
  },
  {
   "cell_type": "markdown",
   "metadata": {},
   "source": [
    "## 10. Web Apps & API\n",
    "\n",
    "- FastAPI - Web Framework for building APIs in python\n",
    "- Dash & Streamlit - Data Science Web Frameworks\n",
    "- Flask - Web Development\n",
    "--------"
   ]
  },
  {
   "cell_type": "markdown",
   "metadata": {},
   "source": [
    "## 11. MLOps\n",
    "\n",
    "- Pycaret MLFlow Integration\n",
    "- MLFlow - ML Lifecycle, Tracking, Deployment\n",
    "- MetaFlow - Scalable AWS Jobs for DS\n",
    "--------"
   ]
  },
  {
   "cell_type": "markdown",
   "metadata": {},
   "source": [
    "## 12. ETL & Automations\n",
    "\n",
    "- JobLib - Run python jobs\n",
    "- Airflow, Prefect - Workflow Scheduling & Monitoring\n",
    "- Ansible - Deployment Automation\n",
    "-------- "
   ]
  },
  {
   "cell_type": "markdown",
   "metadata": {},
   "source": [
    "## 13. Speed & Scale\n",
    "\n",
    "- datatable - C++ Speed Up\n",
    "- Dask - Parallel Pandas & Scikit Learn\n",
    "- PySpark - Spark Clusters\n",
    "---------"
   ]
  },
  {
   "cell_type": "markdown",
   "metadata": {},
   "source": [
    "## 14. Libraries coming from R into python\n",
    "\n",
    "- datatable - data.table port\n",
    "- plotnine - ggplot2 port\n",
    "- suiba & plydata - dplyr/tidyr ports\n",
    "-------- "
   ]
  },
  {
   "cell_type": "markdown",
   "metadata": {},
   "source": [
    "## 15. Cloud\n",
    "\n",
    "- Azure - Azure python SDK\n",
    "- Google Cloud - GCP python SDK\n",
    "- boto3 (AWS) - AWS python SDK\n",
    "---------"
   ]
  },
  {
   "cell_type": "markdown",
   "metadata": {},
   "source": [
    "## 16. Reporting\n",
    "\n",
    "- python-pptx - PowerPoint Documents \n",
    "- python-docx - Word Documents\n",
    "- pdfminer - Text extraction from PDF\n",
    "- textract - Extract text from any document\n",
    "- PyPDF2 - Create PDF documents\n",
    "------- "
   ]
  }
 ],
 "metadata": {
  "kernelspec": {
   "display_name": "mlg-382-class",
   "language": "python",
   "name": "python3"
  },
  "language_info": {
   "codemirror_mode": {
    "name": "ipython",
    "version": 3
   },
   "file_extension": ".py",
   "mimetype": "text/x-python",
   "name": "python",
   "nbconvert_exporter": "python",
   "pygments_lexer": "ipython3",
   "version": "3.12.3"
  }
 },
 "nbformat": 4,
 "nbformat_minor": 2
}
