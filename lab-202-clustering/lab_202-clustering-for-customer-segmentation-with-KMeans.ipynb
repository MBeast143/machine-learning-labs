{
 "cells": [
  {
   "cell_type": "markdown",
   "id": "feca7de4",
   "metadata": {},
   "source": [
    "# Clustering for Customer Segmentation with KMeans\n",
    "\n",
    "\n",
    "## Key Takeaways\n",
    "In this module, students will gain a comprehensive understanding of KMeans clustering and its applications in customer segmentation. \n",
    "\n",
    "__They will learn how to:__\n",
    "- choose the optimal number of clusters, \n",
    "- visualize cluster results, and \n",
    "- apply clustering techniques to real-world datasets. \n",
    "\n",
    "Through practical exercises and projects, students will develop the skills necessary to leverage clustering for data-driven decision-making in various domains."
   ]
  },
  {
   "cell_type": "markdown",
   "id": "378e648e",
   "metadata": {},
   "source": [
    "## Introduction to Clustering\n",
    "- Definition of Clustering\n",
    "- Unsupervised Learning vs. Supervised Learning\n",
    "- Applications of Clustering in Data Science\n",
    "- Types of Clustering Algorithms: Partitioning, Hierarchical, Density-Based, Model-Based\n"
   ]
  },
  {
   "cell_type": "markdown",
   "id": "3cdd8887",
   "metadata": {},
   "source": [
    "## KMeans Algorithm\n",
    "\n",
    "__Overview of KMeans Clustering__\n",
    "\n",
    "___How KMeans Works:___\n",
    "1. Initialization: Randomly select initial cluster centroids\n",
    "2. Assignment: Assign each data point to the nearest cluster centroid\n",
    "3. Update: Recalculate the cluster centroids based on the mean of data points in each cluster\n",
    "4. Repeat Assignment and Update steps until convergence\n",
    "\n",
    "__Determining the Optimal Number of Clusters:__\n",
    "1. Elbow Method\n",
    "2. Silhouette Score"
   ]
  },
  {
   "cell_type": "markdown",
   "id": "b6061995",
   "metadata": {},
   "source": [
    "## Choosing the Optimal Number of Clusters\n",
    "\n",
    "__Elbow Method:__\n",
    "- Explanation of Elbow Method\n",
    "- Plotting the Within-Cluster Sum of Squares (WCSS) against the number of clusters\n",
    "- Identifying the \"elbow\" point where the rate of decrease in WCSS slows down\n",
    "\n",
    "__Silhouette Score:__\n",
    "- Explanation of Silhouette Score\n",
    "- Calculating the Silhouette Score for different numbers of clusters\n",
    "- Choosing the number of clusters with the highest Silhouette Score"
   ]
  },
  {
   "cell_type": "markdown",
   "id": "df990d3b",
   "metadata": {},
   "source": [
    "## Visualizing Clusters\n",
    "\n",
    "__Techniques for Visualizing Cluster Results:__\n",
    "- Scatter plots with cluster centroids\n",
    "- Cluster profiles: Mean feature values for each cluster\n",
    "- Cluster heatmaps: Visualizing cluster characteristics\n",
    "\n",
    "__Interpreting and Analyzing Cluster Results:__\n",
    "- Identifying distinct customer segments or groups\n",
    "- Understanding the characteristics and behaviors of each cluster\n",
    "- Extracting insights for business decisions and marketing strategies"
   ]
  },
  {
   "cell_type": "markdown",
   "id": "09192155",
   "metadata": {},
   "source": [
    "## Applications in Market Segmentation\n",
    "\n",
    "__How data science helps:__\n",
    "\n",
    "- Businesses analyze customer data to create targeted marketing strategies that cater to specific groups (segments), improving engagement and loyalty.\n",
    "\n",
    "__Types of customer segmentation features:__\n",
    "\n",
    "- Demographic, Geographic, Psychographic, and Behavioural.\n",
    "\n",
    "__Demographic__ - grouping is based on demographic variables such as age, gender, income, occupation, and education level. \n",
    "\n",
    "__Geographic__ - group according to their location, which could be as broad as a country or as specific as a neighborhood. This helps in tailoring marketing campaigns that are culturally and regionally relevant. \n",
    "\n",
    "__Psychographic__ - includes lifestyle, values, attitudes, and personal traits. \n",
    "\n",
    "__Behavioural__ - customers are divided based on their behaviour patterns related to the business, such as purchase history, product usage frequency, brand loyalty, and user status (new, potential, or loyal customers).\n",
    "\n",
    "__What data do I regularly segment on for Email Marketing Segmentation?__ \n",
    "\n",
    "Recency Frequency Monetary (RFM) features, time on list, time since last purchase, spend in last 30 days, products purchased, interests (what they clicking on), events attended, email scoring, clicked on a product page (which ones?), geographic region, number of tags, number of events, and many more.\n",
    "\n",
    "__Algorithms used:__\n",
    "\n",
    "- KMeans - great tool for finding similar customers.\n"
   ]
  },
  {
   "cell_type": "code",
   "execution_count": 175,
   "id": "b61d5f00",
   "metadata": {},
   "outputs": [],
   "source": [
    "# Libraries\n",
    "\n",
    "# Data manipulation\n",
    "import pandas as pd\n",
    "\n",
    "# Data Visualization\n",
    "import matplotlib.pyplot as plt\n",
    "import plotly.express as px\n",
    "\n",
    "# Date manipulation\n",
    "from datetime import date, datetime, timedelta\n",
    "\n",
    "# Clustering algorithm\n",
    "from sklearn.cluster import KMeans\n",
    "\n",
    "# For Cat features\n",
    "from category_encoders import OneHotEncoder\n",
    "# For Scaling features\n",
    "from sklearn.preprocessing import StandardScaler\n",
    "# Model pipeline\n",
    "from sklearn.pipeline import make_pipeline\n",
    "from sklearn.decomposition import PCA\n",
    "# Evaluation metric\n",
    "from sklearn.metrics import silhouette_score"
   ]
  },
  {
   "cell_type": "code",
   "execution_count": 176,
   "id": "8980c732",
   "metadata": {},
   "outputs": [
    {
     "name": "stdout",
     "output_type": "stream",
     "text": [
      "<class 'pandas.core.frame.DataFrame'>\n",
      "RangeIndex: 2240 entries, 0 to 2239\n",
      "Data columns (total 29 columns):\n",
      " #   Column               Non-Null Count  Dtype  \n",
      "---  ------               --------------  -----  \n",
      " 0   ID                   2240 non-null   int64  \n",
      " 1   Year_Birth           2240 non-null   int64  \n",
      " 2   Education            2240 non-null   object \n",
      " 3   Marital_Status       2240 non-null   object \n",
      " 4   Income               2216 non-null   float64\n",
      " 5   Kidhome              2240 non-null   int64  \n",
      " 6   Teenhome             2240 non-null   int64  \n",
      " 7   Dt_Customer          2240 non-null   object \n",
      " 8   Recency              2240 non-null   int64  \n",
      " 9   MntWines             2240 non-null   int64  \n",
      " 10  MntFruits            2240 non-null   int64  \n",
      " 11  MntMeatProducts      2240 non-null   int64  \n",
      " 12  MntFishProducts      2240 non-null   int64  \n",
      " 13  MntSweetProducts     2240 non-null   int64  \n",
      " 14  MntGoldProds         2240 non-null   int64  \n",
      " 15  NumDealsPurchases    2240 non-null   int64  \n",
      " 16  NumWebPurchases      2240 non-null   int64  \n",
      " 17  NumCatalogPurchases  2240 non-null   int64  \n",
      " 18  NumStorePurchases    2240 non-null   int64  \n",
      " 19  NumWebVisitsMonth    2240 non-null   int64  \n",
      " 20  AcceptedCmp3         2240 non-null   int64  \n",
      " 21  AcceptedCmp4         2240 non-null   int64  \n",
      " 22  AcceptedCmp5         2240 non-null   int64  \n",
      " 23  AcceptedCmp1         2240 non-null   int64  \n",
      " 24  AcceptedCmp2         2240 non-null   int64  \n",
      " 25  Complain             2240 non-null   int64  \n",
      " 26  Z_CostContact        2240 non-null   int64  \n",
      " 27  Z_Revenue            2240 non-null   int64  \n",
      " 28  Response             2240 non-null   int64  \n",
      "dtypes: float64(1), int64(25), object(3)\n",
      "memory usage: 507.6+ KB\n",
      "None\n"
     ]
    },
    {
     "data": {
      "text/html": [
       "<div>\n",
       "<style scoped>\n",
       "    .dataframe tbody tr th:only-of-type {\n",
       "        vertical-align: middle;\n",
       "    }\n",
       "\n",
       "    .dataframe tbody tr th {\n",
       "        vertical-align: top;\n",
       "    }\n",
       "\n",
       "    .dataframe thead th {\n",
       "        text-align: right;\n",
       "    }\n",
       "</style>\n",
       "<table border=\"1\" class=\"dataframe\">\n",
       "  <thead>\n",
       "    <tr style=\"text-align: right;\">\n",
       "      <th></th>\n",
       "      <th>ID</th>\n",
       "      <th>Year_Birth</th>\n",
       "      <th>Education</th>\n",
       "      <th>Marital_Status</th>\n",
       "      <th>Income</th>\n",
       "      <th>Kidhome</th>\n",
       "      <th>Teenhome</th>\n",
       "      <th>Dt_Customer</th>\n",
       "      <th>Recency</th>\n",
       "      <th>MntWines</th>\n",
       "      <th>...</th>\n",
       "      <th>NumWebVisitsMonth</th>\n",
       "      <th>AcceptedCmp3</th>\n",
       "      <th>AcceptedCmp4</th>\n",
       "      <th>AcceptedCmp5</th>\n",
       "      <th>AcceptedCmp1</th>\n",
       "      <th>AcceptedCmp2</th>\n",
       "      <th>Complain</th>\n",
       "      <th>Z_CostContact</th>\n",
       "      <th>Z_Revenue</th>\n",
       "      <th>Response</th>\n",
       "    </tr>\n",
       "  </thead>\n",
       "  <tbody>\n",
       "    <tr>\n",
       "      <th>0</th>\n",
       "      <td>5524</td>\n",
       "      <td>1957</td>\n",
       "      <td>Graduation</td>\n",
       "      <td>Single</td>\n",
       "      <td>58138.0</td>\n",
       "      <td>0</td>\n",
       "      <td>0</td>\n",
       "      <td>04-09-2012</td>\n",
       "      <td>58</td>\n",
       "      <td>635</td>\n",
       "      <td>...</td>\n",
       "      <td>7</td>\n",
       "      <td>0</td>\n",
       "      <td>0</td>\n",
       "      <td>0</td>\n",
       "      <td>0</td>\n",
       "      <td>0</td>\n",
       "      <td>0</td>\n",
       "      <td>3</td>\n",
       "      <td>11</td>\n",
       "      <td>1</td>\n",
       "    </tr>\n",
       "    <tr>\n",
       "      <th>1</th>\n",
       "      <td>2174</td>\n",
       "      <td>1954</td>\n",
       "      <td>Graduation</td>\n",
       "      <td>Single</td>\n",
       "      <td>46344.0</td>\n",
       "      <td>1</td>\n",
       "      <td>1</td>\n",
       "      <td>08-03-2014</td>\n",
       "      <td>38</td>\n",
       "      <td>11</td>\n",
       "      <td>...</td>\n",
       "      <td>5</td>\n",
       "      <td>0</td>\n",
       "      <td>0</td>\n",
       "      <td>0</td>\n",
       "      <td>0</td>\n",
       "      <td>0</td>\n",
       "      <td>0</td>\n",
       "      <td>3</td>\n",
       "      <td>11</td>\n",
       "      <td>0</td>\n",
       "    </tr>\n",
       "    <tr>\n",
       "      <th>2</th>\n",
       "      <td>4141</td>\n",
       "      <td>1965</td>\n",
       "      <td>Graduation</td>\n",
       "      <td>Together</td>\n",
       "      <td>71613.0</td>\n",
       "      <td>0</td>\n",
       "      <td>0</td>\n",
       "      <td>21-08-2013</td>\n",
       "      <td>26</td>\n",
       "      <td>426</td>\n",
       "      <td>...</td>\n",
       "      <td>4</td>\n",
       "      <td>0</td>\n",
       "      <td>0</td>\n",
       "      <td>0</td>\n",
       "      <td>0</td>\n",
       "      <td>0</td>\n",
       "      <td>0</td>\n",
       "      <td>3</td>\n",
       "      <td>11</td>\n",
       "      <td>0</td>\n",
       "    </tr>\n",
       "    <tr>\n",
       "      <th>3</th>\n",
       "      <td>6182</td>\n",
       "      <td>1984</td>\n",
       "      <td>Graduation</td>\n",
       "      <td>Together</td>\n",
       "      <td>26646.0</td>\n",
       "      <td>1</td>\n",
       "      <td>0</td>\n",
       "      <td>10-02-2014</td>\n",
       "      <td>26</td>\n",
       "      <td>11</td>\n",
       "      <td>...</td>\n",
       "      <td>6</td>\n",
       "      <td>0</td>\n",
       "      <td>0</td>\n",
       "      <td>0</td>\n",
       "      <td>0</td>\n",
       "      <td>0</td>\n",
       "      <td>0</td>\n",
       "      <td>3</td>\n",
       "      <td>11</td>\n",
       "      <td>0</td>\n",
       "    </tr>\n",
       "    <tr>\n",
       "      <th>4</th>\n",
       "      <td>5324</td>\n",
       "      <td>1981</td>\n",
       "      <td>PhD</td>\n",
       "      <td>Married</td>\n",
       "      <td>58293.0</td>\n",
       "      <td>1</td>\n",
       "      <td>0</td>\n",
       "      <td>19-01-2014</td>\n",
       "      <td>94</td>\n",
       "      <td>173</td>\n",
       "      <td>...</td>\n",
       "      <td>5</td>\n",
       "      <td>0</td>\n",
       "      <td>0</td>\n",
       "      <td>0</td>\n",
       "      <td>0</td>\n",
       "      <td>0</td>\n",
       "      <td>0</td>\n",
       "      <td>3</td>\n",
       "      <td>11</td>\n",
       "      <td>0</td>\n",
       "    </tr>\n",
       "  </tbody>\n",
       "</table>\n",
       "<p>5 rows × 29 columns</p>\n",
       "</div>"
      ],
      "text/plain": [
       "     ID  Year_Birth   Education Marital_Status   Income  Kidhome  Teenhome  \\\n",
       "0  5524        1957  Graduation         Single  58138.0        0         0   \n",
       "1  2174        1954  Graduation         Single  46344.0        1         1   \n",
       "2  4141        1965  Graduation       Together  71613.0        0         0   \n",
       "3  6182        1984  Graduation       Together  26646.0        1         0   \n",
       "4  5324        1981         PhD        Married  58293.0        1         0   \n",
       "\n",
       "  Dt_Customer  Recency  MntWines  ...  NumWebVisitsMonth  AcceptedCmp3  \\\n",
       "0  04-09-2012       58       635  ...                  7             0   \n",
       "1  08-03-2014       38        11  ...                  5             0   \n",
       "2  21-08-2013       26       426  ...                  4             0   \n",
       "3  10-02-2014       26        11  ...                  6             0   \n",
       "4  19-01-2014       94       173  ...                  5             0   \n",
       "\n",
       "   AcceptedCmp4  AcceptedCmp5  AcceptedCmp1  AcceptedCmp2  Complain  \\\n",
       "0             0             0             0             0         0   \n",
       "1             0             0             0             0         0   \n",
       "2             0             0             0             0         0   \n",
       "3             0             0             0             0         0   \n",
       "4             0             0             0             0         0   \n",
       "\n",
       "   Z_CostContact  Z_Revenue  Response  \n",
       "0              3         11         1  \n",
       "1              3         11         0  \n",
       "2              3         11         0  \n",
       "3              3         11         0  \n",
       "4              3         11         0  \n",
       "\n",
       "[5 rows x 29 columns]"
      ]
     },
     "execution_count": 176,
     "metadata": {},
     "output_type": "execute_result"
    }
   ],
   "source": [
    "# import data\n",
    "raw_df = pd.read_csv('./data/marketing_campaign.csv')\n",
    "print(raw_df.info())\n",
    "raw_df.head()"
   ]
  },
  {
   "cell_type": "code",
   "execution_count": 177,
   "id": "81c3f3eb",
   "metadata": {},
   "outputs": [],
   "source": [
    "def prepare_data(data):\n",
    "\n",
    "    data = (\n",
    "        data\n",
    "        # Remove NA values\n",
    "        .dropna()\n",
    "        # Convert Dt_Customer datatype to Date\n",
    "        .assign(\n",
    "            Dt_Customer = lambda x: pd.to_datetime(x['Dt_Customer'], format=\"%d-%m-%Y\")\n",
    "            )\n",
    "        # Feature: Customer Age - max customer date\n",
    "        .assign(\n",
    "            Cust_Age = lambda x: -1*(x['Dt_Customer'] - x['Dt_Customer'].min())/timedelta(days=1)\n",
    "            )\n",
    "        # Spent = Sum(Mnt...)\n",
    "        .assign(\n",
    "            Spent = lambda x: x.loc[:,x.columns.str.contains('Mnt')].agg(\n",
    "                ['sum'], #function to use\n",
    "                axis=1 # tell pandas to aggregate each row\n",
    "                )\n",
    "            )\n",
    "        # Remove unnecessary features\n",
    "        .drop(\n",
    "            columns = ['ID', 'Z_CostContact', 'Z_Revenue', 'Response', 'Dt_Customer']\n",
    "            )\n",
    "        )\n",
    "    prepared_df = OneHotEncoder(use_cat_names=True).fit_transform(data)\n",
    "    return prepared_df"
   ]
  },
  {
   "cell_type": "code",
   "execution_count": 178,
   "id": "ca7ab381",
   "metadata": {},
   "outputs": [
    {
     "data": {
      "text/html": [
       "<div>\n",
       "<style scoped>\n",
       "    .dataframe tbody tr th:only-of-type {\n",
       "        vertical-align: middle;\n",
       "    }\n",
       "\n",
       "    .dataframe tbody tr th {\n",
       "        vertical-align: top;\n",
       "    }\n",
       "\n",
       "    .dataframe thead th {\n",
       "        text-align: right;\n",
       "    }\n",
       "</style>\n",
       "<table border=\"1\" class=\"dataframe\">\n",
       "  <thead>\n",
       "    <tr style=\"text-align: right;\">\n",
       "      <th></th>\n",
       "      <th>Year_Birth</th>\n",
       "      <th>Education_Graduation</th>\n",
       "      <th>Education_PhD</th>\n",
       "      <th>Education_Master</th>\n",
       "      <th>Education_Basic</th>\n",
       "      <th>Education_2n Cycle</th>\n",
       "      <th>Marital_Status_Single</th>\n",
       "      <th>Marital_Status_Together</th>\n",
       "      <th>Marital_Status_Married</th>\n",
       "      <th>Marital_Status_Divorced</th>\n",
       "      <th>...</th>\n",
       "      <th>NumStorePurchases</th>\n",
       "      <th>NumWebVisitsMonth</th>\n",
       "      <th>AcceptedCmp3</th>\n",
       "      <th>AcceptedCmp4</th>\n",
       "      <th>AcceptedCmp5</th>\n",
       "      <th>AcceptedCmp1</th>\n",
       "      <th>AcceptedCmp2</th>\n",
       "      <th>Complain</th>\n",
       "      <th>Cust_Age</th>\n",
       "      <th>Spent</th>\n",
       "    </tr>\n",
       "  </thead>\n",
       "  <tbody>\n",
       "    <tr>\n",
       "      <th>0</th>\n",
       "      <td>1957</td>\n",
       "      <td>1</td>\n",
       "      <td>0</td>\n",
       "      <td>0</td>\n",
       "      <td>0</td>\n",
       "      <td>0</td>\n",
       "      <td>1</td>\n",
       "      <td>0</td>\n",
       "      <td>0</td>\n",
       "      <td>0</td>\n",
       "      <td>...</td>\n",
       "      <td>4</td>\n",
       "      <td>7</td>\n",
       "      <td>0</td>\n",
       "      <td>0</td>\n",
       "      <td>0</td>\n",
       "      <td>0</td>\n",
       "      <td>0</td>\n",
       "      <td>0</td>\n",
       "      <td>-36.0</td>\n",
       "      <td>1617</td>\n",
       "    </tr>\n",
       "    <tr>\n",
       "      <th>1</th>\n",
       "      <td>1954</td>\n",
       "      <td>1</td>\n",
       "      <td>0</td>\n",
       "      <td>0</td>\n",
       "      <td>0</td>\n",
       "      <td>0</td>\n",
       "      <td>1</td>\n",
       "      <td>0</td>\n",
       "      <td>0</td>\n",
       "      <td>0</td>\n",
       "      <td>...</td>\n",
       "      <td>2</td>\n",
       "      <td>5</td>\n",
       "      <td>0</td>\n",
       "      <td>0</td>\n",
       "      <td>0</td>\n",
       "      <td>0</td>\n",
       "      <td>0</td>\n",
       "      <td>0</td>\n",
       "      <td>-586.0</td>\n",
       "      <td>27</td>\n",
       "    </tr>\n",
       "    <tr>\n",
       "      <th>2</th>\n",
       "      <td>1965</td>\n",
       "      <td>1</td>\n",
       "      <td>0</td>\n",
       "      <td>0</td>\n",
       "      <td>0</td>\n",
       "      <td>0</td>\n",
       "      <td>0</td>\n",
       "      <td>1</td>\n",
       "      <td>0</td>\n",
       "      <td>0</td>\n",
       "      <td>...</td>\n",
       "      <td>10</td>\n",
       "      <td>4</td>\n",
       "      <td>0</td>\n",
       "      <td>0</td>\n",
       "      <td>0</td>\n",
       "      <td>0</td>\n",
       "      <td>0</td>\n",
       "      <td>0</td>\n",
       "      <td>-387.0</td>\n",
       "      <td>776</td>\n",
       "    </tr>\n",
       "    <tr>\n",
       "      <th>3</th>\n",
       "      <td>1984</td>\n",
       "      <td>1</td>\n",
       "      <td>0</td>\n",
       "      <td>0</td>\n",
       "      <td>0</td>\n",
       "      <td>0</td>\n",
       "      <td>0</td>\n",
       "      <td>1</td>\n",
       "      <td>0</td>\n",
       "      <td>0</td>\n",
       "      <td>...</td>\n",
       "      <td>4</td>\n",
       "      <td>6</td>\n",
       "      <td>0</td>\n",
       "      <td>0</td>\n",
       "      <td>0</td>\n",
       "      <td>0</td>\n",
       "      <td>0</td>\n",
       "      <td>0</td>\n",
       "      <td>-560.0</td>\n",
       "      <td>53</td>\n",
       "    </tr>\n",
       "    <tr>\n",
       "      <th>4</th>\n",
       "      <td>1981</td>\n",
       "      <td>0</td>\n",
       "      <td>1</td>\n",
       "      <td>0</td>\n",
       "      <td>0</td>\n",
       "      <td>0</td>\n",
       "      <td>0</td>\n",
       "      <td>0</td>\n",
       "      <td>1</td>\n",
       "      <td>0</td>\n",
       "      <td>...</td>\n",
       "      <td>6</td>\n",
       "      <td>5</td>\n",
       "      <td>0</td>\n",
       "      <td>0</td>\n",
       "      <td>0</td>\n",
       "      <td>0</td>\n",
       "      <td>0</td>\n",
       "      <td>0</td>\n",
       "      <td>-538.0</td>\n",
       "      <td>422</td>\n",
       "    </tr>\n",
       "  </tbody>\n",
       "</table>\n",
       "<p>5 rows × 37 columns</p>\n",
       "</div>"
      ],
      "text/plain": [
       "   Year_Birth  Education_Graduation  Education_PhD  Education_Master  \\\n",
       "0        1957                     1              0                 0   \n",
       "1        1954                     1              0                 0   \n",
       "2        1965                     1              0                 0   \n",
       "3        1984                     1              0                 0   \n",
       "4        1981                     0              1                 0   \n",
       "\n",
       "   Education_Basic  Education_2n Cycle  Marital_Status_Single  \\\n",
       "0                0                   0                      1   \n",
       "1                0                   0                      1   \n",
       "2                0                   0                      0   \n",
       "3                0                   0                      0   \n",
       "4                0                   0                      0   \n",
       "\n",
       "   Marital_Status_Together  Marital_Status_Married  Marital_Status_Divorced  \\\n",
       "0                        0                       0                        0   \n",
       "1                        0                       0                        0   \n",
       "2                        1                       0                        0   \n",
       "3                        1                       0                        0   \n",
       "4                        0                       1                        0   \n",
       "\n",
       "   ...  NumStorePurchases  NumWebVisitsMonth  AcceptedCmp3  AcceptedCmp4  \\\n",
       "0  ...                  4                  7             0             0   \n",
       "1  ...                  2                  5             0             0   \n",
       "2  ...                 10                  4             0             0   \n",
       "3  ...                  4                  6             0             0   \n",
       "4  ...                  6                  5             0             0   \n",
       "\n",
       "   AcceptedCmp5  AcceptedCmp1  AcceptedCmp2  Complain  Cust_Age  Spent  \n",
       "0             0             0             0         0     -36.0   1617  \n",
       "1             0             0             0         0    -586.0     27  \n",
       "2             0             0             0         0    -387.0    776  \n",
       "3             0             0             0         0    -560.0     53  \n",
       "4             0             0             0         0    -538.0    422  \n",
       "\n",
       "[5 rows x 37 columns]"
      ]
     },
     "execution_count": 178,
     "metadata": {},
     "output_type": "execute_result"
    }
   ],
   "source": [
    "# Features to use\n",
    "X = prepare_data(raw_df)\n",
    "X.head()"
   ]
  },
  {
   "cell_type": "code",
   "execution_count": 179,
   "id": "bc9c3a00",
   "metadata": {},
   "outputs": [
    {
     "name": "stdout",
     "output_type": "stream",
     "text": [
      "Inertia: [69062.98161331186, 65318.95533249145, 63721.78064506085]\n",
      "\n",
      "Silhouette Scores: [0.4795937807812199, 0.28920162950694633, 0.14962618066425873]\n"
     ]
    }
   ],
   "source": [
    "n_clusters = range(2,8)\n",
    "inertia_errors = []\n",
    "silhouette_scores = []\n",
    "\n",
    "# Add `for` loop to train model and calculate inertia, silhouette score.\n",
    "for k in n_clusters:\n",
    "    # Build model\n",
    "    model = make_pipeline(\n",
    "        StandardScaler(),\n",
    "        KMeans(n_clusters=k, random_state=42)\n",
    "    )\n",
    "    # Train model\n",
    "    model.fit(X)\n",
    "    # Calculate inertia\n",
    "    inertia_errors.append(model.named_steps[\"kmeans\"].inertia_)\n",
    "    # Calculate silhouette score\n",
    "    silhouette_scores.append(\n",
    "        silhouette_score(\n",
    "            X, \n",
    "            model.named_steps[\"kmeans\"].labels_)\n",
    "    )\n",
    "\n",
    "print(\"Inertia:\", inertia_errors[:3])\n",
    "print()\n",
    "print(\"Silhouette Scores:\", silhouette_scores[:3])"
   ]
  },
  {
   "cell_type": "code",
   "execution_count": 180,
   "id": "2f40e630",
   "metadata": {},
   "outputs": [
    {
     "data": {
      "application/vnd.plotly.v1+json": {
       "config": {
        "plotlyServerURL": "https://plot.ly"
       },
       "data": [
        {
         "hovertemplate": "x=%{x}<br>y=%{y}<extra></extra>",
         "legendgroup": "",
         "line": {
          "color": "#636efa",
          "dash": "solid"
         },
         "marker": {
          "symbol": "circle"
         },
         "mode": "lines",
         "name": "",
         "orientation": "v",
         "showlegend": false,
         "type": "scatter",
         "x": [
          2,
          3,
          4,
          5,
          6,
          7
         ],
         "xaxis": "x",
         "y": [
          69062.98161331186,
          65318.95533249145,
          63721.78064506085,
          61480.58456536059,
          59102.76141941143,
          57868.09932046983
         ],
         "yaxis": "y"
        }
       ],
       "layout": {
        "legend": {
         "tracegroupgap": 0
        },
        "template": {
         "data": {
          "bar": [
           {
            "error_x": {
             "color": "#2a3f5f"
            },
            "error_y": {
             "color": "#2a3f5f"
            },
            "marker": {
             "line": {
              "color": "#E5ECF6",
              "width": 0.5
             },
             "pattern": {
              "fillmode": "overlay",
              "size": 10,
              "solidity": 0.2
             }
            },
            "type": "bar"
           }
          ],
          "barpolar": [
           {
            "marker": {
             "line": {
              "color": "#E5ECF6",
              "width": 0.5
             },
             "pattern": {
              "fillmode": "overlay",
              "size": 10,
              "solidity": 0.2
             }
            },
            "type": "barpolar"
           }
          ],
          "carpet": [
           {
            "aaxis": {
             "endlinecolor": "#2a3f5f",
             "gridcolor": "white",
             "linecolor": "white",
             "minorgridcolor": "white",
             "startlinecolor": "#2a3f5f"
            },
            "baxis": {
             "endlinecolor": "#2a3f5f",
             "gridcolor": "white",
             "linecolor": "white",
             "minorgridcolor": "white",
             "startlinecolor": "#2a3f5f"
            },
            "type": "carpet"
           }
          ],
          "choropleth": [
           {
            "colorbar": {
             "outlinewidth": 0,
             "ticks": ""
            },
            "type": "choropleth"
           }
          ],
          "contour": [
           {
            "colorbar": {
             "outlinewidth": 0,
             "ticks": ""
            },
            "colorscale": [
             [
              0,
              "#0d0887"
             ],
             [
              0.1111111111111111,
              "#46039f"
             ],
             [
              0.2222222222222222,
              "#7201a8"
             ],
             [
              0.3333333333333333,
              "#9c179e"
             ],
             [
              0.4444444444444444,
              "#bd3786"
             ],
             [
              0.5555555555555556,
              "#d8576b"
             ],
             [
              0.6666666666666666,
              "#ed7953"
             ],
             [
              0.7777777777777778,
              "#fb9f3a"
             ],
             [
              0.8888888888888888,
              "#fdca26"
             ],
             [
              1,
              "#f0f921"
             ]
            ],
            "type": "contour"
           }
          ],
          "contourcarpet": [
           {
            "colorbar": {
             "outlinewidth": 0,
             "ticks": ""
            },
            "type": "contourcarpet"
           }
          ],
          "heatmap": [
           {
            "colorbar": {
             "outlinewidth": 0,
             "ticks": ""
            },
            "colorscale": [
             [
              0,
              "#0d0887"
             ],
             [
              0.1111111111111111,
              "#46039f"
             ],
             [
              0.2222222222222222,
              "#7201a8"
             ],
             [
              0.3333333333333333,
              "#9c179e"
             ],
             [
              0.4444444444444444,
              "#bd3786"
             ],
             [
              0.5555555555555556,
              "#d8576b"
             ],
             [
              0.6666666666666666,
              "#ed7953"
             ],
             [
              0.7777777777777778,
              "#fb9f3a"
             ],
             [
              0.8888888888888888,
              "#fdca26"
             ],
             [
              1,
              "#f0f921"
             ]
            ],
            "type": "heatmap"
           }
          ],
          "heatmapgl": [
           {
            "colorbar": {
             "outlinewidth": 0,
             "ticks": ""
            },
            "colorscale": [
             [
              0,
              "#0d0887"
             ],
             [
              0.1111111111111111,
              "#46039f"
             ],
             [
              0.2222222222222222,
              "#7201a8"
             ],
             [
              0.3333333333333333,
              "#9c179e"
             ],
             [
              0.4444444444444444,
              "#bd3786"
             ],
             [
              0.5555555555555556,
              "#d8576b"
             ],
             [
              0.6666666666666666,
              "#ed7953"
             ],
             [
              0.7777777777777778,
              "#fb9f3a"
             ],
             [
              0.8888888888888888,
              "#fdca26"
             ],
             [
              1,
              "#f0f921"
             ]
            ],
            "type": "heatmapgl"
           }
          ],
          "histogram": [
           {
            "marker": {
             "pattern": {
              "fillmode": "overlay",
              "size": 10,
              "solidity": 0.2
             }
            },
            "type": "histogram"
           }
          ],
          "histogram2d": [
           {
            "colorbar": {
             "outlinewidth": 0,
             "ticks": ""
            },
            "colorscale": [
             [
              0,
              "#0d0887"
             ],
             [
              0.1111111111111111,
              "#46039f"
             ],
             [
              0.2222222222222222,
              "#7201a8"
             ],
             [
              0.3333333333333333,
              "#9c179e"
             ],
             [
              0.4444444444444444,
              "#bd3786"
             ],
             [
              0.5555555555555556,
              "#d8576b"
             ],
             [
              0.6666666666666666,
              "#ed7953"
             ],
             [
              0.7777777777777778,
              "#fb9f3a"
             ],
             [
              0.8888888888888888,
              "#fdca26"
             ],
             [
              1,
              "#f0f921"
             ]
            ],
            "type": "histogram2d"
           }
          ],
          "histogram2dcontour": [
           {
            "colorbar": {
             "outlinewidth": 0,
             "ticks": ""
            },
            "colorscale": [
             [
              0,
              "#0d0887"
             ],
             [
              0.1111111111111111,
              "#46039f"
             ],
             [
              0.2222222222222222,
              "#7201a8"
             ],
             [
              0.3333333333333333,
              "#9c179e"
             ],
             [
              0.4444444444444444,
              "#bd3786"
             ],
             [
              0.5555555555555556,
              "#d8576b"
             ],
             [
              0.6666666666666666,
              "#ed7953"
             ],
             [
              0.7777777777777778,
              "#fb9f3a"
             ],
             [
              0.8888888888888888,
              "#fdca26"
             ],
             [
              1,
              "#f0f921"
             ]
            ],
            "type": "histogram2dcontour"
           }
          ],
          "mesh3d": [
           {
            "colorbar": {
             "outlinewidth": 0,
             "ticks": ""
            },
            "type": "mesh3d"
           }
          ],
          "parcoords": [
           {
            "line": {
             "colorbar": {
              "outlinewidth": 0,
              "ticks": ""
             }
            },
            "type": "parcoords"
           }
          ],
          "pie": [
           {
            "automargin": true,
            "type": "pie"
           }
          ],
          "scatter": [
           {
            "fillpattern": {
             "fillmode": "overlay",
             "size": 10,
             "solidity": 0.2
            },
            "type": "scatter"
           }
          ],
          "scatter3d": [
           {
            "line": {
             "colorbar": {
              "outlinewidth": 0,
              "ticks": ""
             }
            },
            "marker": {
             "colorbar": {
              "outlinewidth": 0,
              "ticks": ""
             }
            },
            "type": "scatter3d"
           }
          ],
          "scattercarpet": [
           {
            "marker": {
             "colorbar": {
              "outlinewidth": 0,
              "ticks": ""
             }
            },
            "type": "scattercarpet"
           }
          ],
          "scattergeo": [
           {
            "marker": {
             "colorbar": {
              "outlinewidth": 0,
              "ticks": ""
             }
            },
            "type": "scattergeo"
           }
          ],
          "scattergl": [
           {
            "marker": {
             "colorbar": {
              "outlinewidth": 0,
              "ticks": ""
             }
            },
            "type": "scattergl"
           }
          ],
          "scattermapbox": [
           {
            "marker": {
             "colorbar": {
              "outlinewidth": 0,
              "ticks": ""
             }
            },
            "type": "scattermapbox"
           }
          ],
          "scatterpolar": [
           {
            "marker": {
             "colorbar": {
              "outlinewidth": 0,
              "ticks": ""
             }
            },
            "type": "scatterpolar"
           }
          ],
          "scatterpolargl": [
           {
            "marker": {
             "colorbar": {
              "outlinewidth": 0,
              "ticks": ""
             }
            },
            "type": "scatterpolargl"
           }
          ],
          "scatterternary": [
           {
            "marker": {
             "colorbar": {
              "outlinewidth": 0,
              "ticks": ""
             }
            },
            "type": "scatterternary"
           }
          ],
          "surface": [
           {
            "colorbar": {
             "outlinewidth": 0,
             "ticks": ""
            },
            "colorscale": [
             [
              0,
              "#0d0887"
             ],
             [
              0.1111111111111111,
              "#46039f"
             ],
             [
              0.2222222222222222,
              "#7201a8"
             ],
             [
              0.3333333333333333,
              "#9c179e"
             ],
             [
              0.4444444444444444,
              "#bd3786"
             ],
             [
              0.5555555555555556,
              "#d8576b"
             ],
             [
              0.6666666666666666,
              "#ed7953"
             ],
             [
              0.7777777777777778,
              "#fb9f3a"
             ],
             [
              0.8888888888888888,
              "#fdca26"
             ],
             [
              1,
              "#f0f921"
             ]
            ],
            "type": "surface"
           }
          ],
          "table": [
           {
            "cells": {
             "fill": {
              "color": "#EBF0F8"
             },
             "line": {
              "color": "white"
             }
            },
            "header": {
             "fill": {
              "color": "#C8D4E3"
             },
             "line": {
              "color": "white"
             }
            },
            "type": "table"
           }
          ]
         },
         "layout": {
          "annotationdefaults": {
           "arrowcolor": "#2a3f5f",
           "arrowhead": 0,
           "arrowwidth": 1
          },
          "autotypenumbers": "strict",
          "coloraxis": {
           "colorbar": {
            "outlinewidth": 0,
            "ticks": ""
           }
          },
          "colorscale": {
           "diverging": [
            [
             0,
             "#8e0152"
            ],
            [
             0.1,
             "#c51b7d"
            ],
            [
             0.2,
             "#de77ae"
            ],
            [
             0.3,
             "#f1b6da"
            ],
            [
             0.4,
             "#fde0ef"
            ],
            [
             0.5,
             "#f7f7f7"
            ],
            [
             0.6,
             "#e6f5d0"
            ],
            [
             0.7,
             "#b8e186"
            ],
            [
             0.8,
             "#7fbc41"
            ],
            [
             0.9,
             "#4d9221"
            ],
            [
             1,
             "#276419"
            ]
           ],
           "sequential": [
            [
             0,
             "#0d0887"
            ],
            [
             0.1111111111111111,
             "#46039f"
            ],
            [
             0.2222222222222222,
             "#7201a8"
            ],
            [
             0.3333333333333333,
             "#9c179e"
            ],
            [
             0.4444444444444444,
             "#bd3786"
            ],
            [
             0.5555555555555556,
             "#d8576b"
            ],
            [
             0.6666666666666666,
             "#ed7953"
            ],
            [
             0.7777777777777778,
             "#fb9f3a"
            ],
            [
             0.8888888888888888,
             "#fdca26"
            ],
            [
             1,
             "#f0f921"
            ]
           ],
           "sequentialminus": [
            [
             0,
             "#0d0887"
            ],
            [
             0.1111111111111111,
             "#46039f"
            ],
            [
             0.2222222222222222,
             "#7201a8"
            ],
            [
             0.3333333333333333,
             "#9c179e"
            ],
            [
             0.4444444444444444,
             "#bd3786"
            ],
            [
             0.5555555555555556,
             "#d8576b"
            ],
            [
             0.6666666666666666,
             "#ed7953"
            ],
            [
             0.7777777777777778,
             "#fb9f3a"
            ],
            [
             0.8888888888888888,
             "#fdca26"
            ],
            [
             1,
             "#f0f921"
            ]
           ]
          },
          "colorway": [
           "#636efa",
           "#EF553B",
           "#00cc96",
           "#ab63fa",
           "#FFA15A",
           "#19d3f3",
           "#FF6692",
           "#B6E880",
           "#FF97FF",
           "#FECB52"
          ],
          "font": {
           "color": "#2a3f5f"
          },
          "geo": {
           "bgcolor": "white",
           "lakecolor": "white",
           "landcolor": "#E5ECF6",
           "showlakes": true,
           "showland": true,
           "subunitcolor": "white"
          },
          "hoverlabel": {
           "align": "left"
          },
          "hovermode": "closest",
          "mapbox": {
           "style": "light"
          },
          "paper_bgcolor": "white",
          "plot_bgcolor": "#E5ECF6",
          "polar": {
           "angularaxis": {
            "gridcolor": "white",
            "linecolor": "white",
            "ticks": ""
           },
           "bgcolor": "#E5ECF6",
           "radialaxis": {
            "gridcolor": "white",
            "linecolor": "white",
            "ticks": ""
           }
          },
          "scene": {
           "xaxis": {
            "backgroundcolor": "#E5ECF6",
            "gridcolor": "white",
            "gridwidth": 2,
            "linecolor": "white",
            "showbackground": true,
            "ticks": "",
            "zerolinecolor": "white"
           },
           "yaxis": {
            "backgroundcolor": "#E5ECF6",
            "gridcolor": "white",
            "gridwidth": 2,
            "linecolor": "white",
            "showbackground": true,
            "ticks": "",
            "zerolinecolor": "white"
           },
           "zaxis": {
            "backgroundcolor": "#E5ECF6",
            "gridcolor": "white",
            "gridwidth": 2,
            "linecolor": "white",
            "showbackground": true,
            "ticks": "",
            "zerolinecolor": "white"
           }
          },
          "shapedefaults": {
           "line": {
            "color": "#2a3f5f"
           }
          },
          "ternary": {
           "aaxis": {
            "gridcolor": "white",
            "linecolor": "white",
            "ticks": ""
           },
           "baxis": {
            "gridcolor": "white",
            "linecolor": "white",
            "ticks": ""
           },
           "bgcolor": "#E5ECF6",
           "caxis": {
            "gridcolor": "white",
            "linecolor": "white",
            "ticks": ""
           }
          },
          "title": {
           "x": 0.05
          },
          "xaxis": {
           "automargin": true,
           "gridcolor": "white",
           "linecolor": "white",
           "ticks": "",
           "title": {
            "standoff": 15
           },
           "zerolinecolor": "white",
           "zerolinewidth": 2
          },
          "yaxis": {
           "automargin": true,
           "gridcolor": "white",
           "linecolor": "white",
           "ticks": "",
           "title": {
            "standoff": 15
           },
           "zerolinecolor": "white",
           "zerolinewidth": 2
          }
         }
        },
        "title": {
         "text": "K-Means Model: Inertia vs Number of Clusters"
        },
        "xaxis": {
         "anchor": "y",
         "domain": [
          0,
          1
         ],
         "title": {
          "text": "Number of Clusters"
         }
        },
        "yaxis": {
         "anchor": "x",
         "domain": [
          0,
          1
         ],
         "title": {
          "text": "Inertia"
         }
        }
       }
      }
     },
     "metadata": {},
     "output_type": "display_data"
    }
   ],
   "source": [
    "import plotly.express as px\n",
    "# Create line plot of `inertia_errors` vs `n_clusters`\n",
    "fig = px.line(\n",
    "    x=n_clusters,\n",
    "    y=inertia_errors,\n",
    "    title=\"K-Means Model: Inertia vs Number of Clusters\"\n",
    ")\n",
    "fig.update_layout(xaxis_title=\"Number of Clusters\", yaxis_title=\"Inertia\")\n",
    "fig.show()"
   ]
  },
  {
   "cell_type": "code",
   "execution_count": 187,
   "id": "74ee1eb7",
   "metadata": {},
   "outputs": [
    {
     "data": {
      "application/vnd.plotly.v1+json": {
       "config": {
        "plotlyServerURL": "https://plot.ly"
       },
       "data": [
        {
         "hovertemplate": "x=%{x}<br>y=%{y}<extra></extra>",
         "legendgroup": "",
         "line": {
          "color": "#636efa",
          "dash": "solid"
         },
         "marker": {
          "symbol": "circle"
         },
         "mode": "lines",
         "name": "",
         "orientation": "v",
         "showlegend": false,
         "type": "scatter",
         "x": [
          2,
          3,
          4,
          5,
          6,
          7
         ],
         "xaxis": "x",
         "y": [
          0.4795937807812199,
          0.28920162950694633,
          0.14962618066425873,
          -0.028213754862010425,
          -0.11621326427517492,
          -0.14096815081991892
         ],
         "yaxis": "y"
        }
       ],
       "layout": {
        "legend": {
         "tracegroupgap": 0
        },
        "template": {
         "data": {
          "bar": [
           {
            "error_x": {
             "color": "#2a3f5f"
            },
            "error_y": {
             "color": "#2a3f5f"
            },
            "marker": {
             "line": {
              "color": "#E5ECF6",
              "width": 0.5
             },
             "pattern": {
              "fillmode": "overlay",
              "size": 10,
              "solidity": 0.2
             }
            },
            "type": "bar"
           }
          ],
          "barpolar": [
           {
            "marker": {
             "line": {
              "color": "#E5ECF6",
              "width": 0.5
             },
             "pattern": {
              "fillmode": "overlay",
              "size": 10,
              "solidity": 0.2
             }
            },
            "type": "barpolar"
           }
          ],
          "carpet": [
           {
            "aaxis": {
             "endlinecolor": "#2a3f5f",
             "gridcolor": "white",
             "linecolor": "white",
             "minorgridcolor": "white",
             "startlinecolor": "#2a3f5f"
            },
            "baxis": {
             "endlinecolor": "#2a3f5f",
             "gridcolor": "white",
             "linecolor": "white",
             "minorgridcolor": "white",
             "startlinecolor": "#2a3f5f"
            },
            "type": "carpet"
           }
          ],
          "choropleth": [
           {
            "colorbar": {
             "outlinewidth": 0,
             "ticks": ""
            },
            "type": "choropleth"
           }
          ],
          "contour": [
           {
            "colorbar": {
             "outlinewidth": 0,
             "ticks": ""
            },
            "colorscale": [
             [
              0,
              "#0d0887"
             ],
             [
              0.1111111111111111,
              "#46039f"
             ],
             [
              0.2222222222222222,
              "#7201a8"
             ],
             [
              0.3333333333333333,
              "#9c179e"
             ],
             [
              0.4444444444444444,
              "#bd3786"
             ],
             [
              0.5555555555555556,
              "#d8576b"
             ],
             [
              0.6666666666666666,
              "#ed7953"
             ],
             [
              0.7777777777777778,
              "#fb9f3a"
             ],
             [
              0.8888888888888888,
              "#fdca26"
             ],
             [
              1,
              "#f0f921"
             ]
            ],
            "type": "contour"
           }
          ],
          "contourcarpet": [
           {
            "colorbar": {
             "outlinewidth": 0,
             "ticks": ""
            },
            "type": "contourcarpet"
           }
          ],
          "heatmap": [
           {
            "colorbar": {
             "outlinewidth": 0,
             "ticks": ""
            },
            "colorscale": [
             [
              0,
              "#0d0887"
             ],
             [
              0.1111111111111111,
              "#46039f"
             ],
             [
              0.2222222222222222,
              "#7201a8"
             ],
             [
              0.3333333333333333,
              "#9c179e"
             ],
             [
              0.4444444444444444,
              "#bd3786"
             ],
             [
              0.5555555555555556,
              "#d8576b"
             ],
             [
              0.6666666666666666,
              "#ed7953"
             ],
             [
              0.7777777777777778,
              "#fb9f3a"
             ],
             [
              0.8888888888888888,
              "#fdca26"
             ],
             [
              1,
              "#f0f921"
             ]
            ],
            "type": "heatmap"
           }
          ],
          "heatmapgl": [
           {
            "colorbar": {
             "outlinewidth": 0,
             "ticks": ""
            },
            "colorscale": [
             [
              0,
              "#0d0887"
             ],
             [
              0.1111111111111111,
              "#46039f"
             ],
             [
              0.2222222222222222,
              "#7201a8"
             ],
             [
              0.3333333333333333,
              "#9c179e"
             ],
             [
              0.4444444444444444,
              "#bd3786"
             ],
             [
              0.5555555555555556,
              "#d8576b"
             ],
             [
              0.6666666666666666,
              "#ed7953"
             ],
             [
              0.7777777777777778,
              "#fb9f3a"
             ],
             [
              0.8888888888888888,
              "#fdca26"
             ],
             [
              1,
              "#f0f921"
             ]
            ],
            "type": "heatmapgl"
           }
          ],
          "histogram": [
           {
            "marker": {
             "pattern": {
              "fillmode": "overlay",
              "size": 10,
              "solidity": 0.2
             }
            },
            "type": "histogram"
           }
          ],
          "histogram2d": [
           {
            "colorbar": {
             "outlinewidth": 0,
             "ticks": ""
            },
            "colorscale": [
             [
              0,
              "#0d0887"
             ],
             [
              0.1111111111111111,
              "#46039f"
             ],
             [
              0.2222222222222222,
              "#7201a8"
             ],
             [
              0.3333333333333333,
              "#9c179e"
             ],
             [
              0.4444444444444444,
              "#bd3786"
             ],
             [
              0.5555555555555556,
              "#d8576b"
             ],
             [
              0.6666666666666666,
              "#ed7953"
             ],
             [
              0.7777777777777778,
              "#fb9f3a"
             ],
             [
              0.8888888888888888,
              "#fdca26"
             ],
             [
              1,
              "#f0f921"
             ]
            ],
            "type": "histogram2d"
           }
          ],
          "histogram2dcontour": [
           {
            "colorbar": {
             "outlinewidth": 0,
             "ticks": ""
            },
            "colorscale": [
             [
              0,
              "#0d0887"
             ],
             [
              0.1111111111111111,
              "#46039f"
             ],
             [
              0.2222222222222222,
              "#7201a8"
             ],
             [
              0.3333333333333333,
              "#9c179e"
             ],
             [
              0.4444444444444444,
              "#bd3786"
             ],
             [
              0.5555555555555556,
              "#d8576b"
             ],
             [
              0.6666666666666666,
              "#ed7953"
             ],
             [
              0.7777777777777778,
              "#fb9f3a"
             ],
             [
              0.8888888888888888,
              "#fdca26"
             ],
             [
              1,
              "#f0f921"
             ]
            ],
            "type": "histogram2dcontour"
           }
          ],
          "mesh3d": [
           {
            "colorbar": {
             "outlinewidth": 0,
             "ticks": ""
            },
            "type": "mesh3d"
           }
          ],
          "parcoords": [
           {
            "line": {
             "colorbar": {
              "outlinewidth": 0,
              "ticks": ""
             }
            },
            "type": "parcoords"
           }
          ],
          "pie": [
           {
            "automargin": true,
            "type": "pie"
           }
          ],
          "scatter": [
           {
            "fillpattern": {
             "fillmode": "overlay",
             "size": 10,
             "solidity": 0.2
            },
            "type": "scatter"
           }
          ],
          "scatter3d": [
           {
            "line": {
             "colorbar": {
              "outlinewidth": 0,
              "ticks": ""
             }
            },
            "marker": {
             "colorbar": {
              "outlinewidth": 0,
              "ticks": ""
             }
            },
            "type": "scatter3d"
           }
          ],
          "scattercarpet": [
           {
            "marker": {
             "colorbar": {
              "outlinewidth": 0,
              "ticks": ""
             }
            },
            "type": "scattercarpet"
           }
          ],
          "scattergeo": [
           {
            "marker": {
             "colorbar": {
              "outlinewidth": 0,
              "ticks": ""
             }
            },
            "type": "scattergeo"
           }
          ],
          "scattergl": [
           {
            "marker": {
             "colorbar": {
              "outlinewidth": 0,
              "ticks": ""
             }
            },
            "type": "scattergl"
           }
          ],
          "scattermapbox": [
           {
            "marker": {
             "colorbar": {
              "outlinewidth": 0,
              "ticks": ""
             }
            },
            "type": "scattermapbox"
           }
          ],
          "scatterpolar": [
           {
            "marker": {
             "colorbar": {
              "outlinewidth": 0,
              "ticks": ""
             }
            },
            "type": "scatterpolar"
           }
          ],
          "scatterpolargl": [
           {
            "marker": {
             "colorbar": {
              "outlinewidth": 0,
              "ticks": ""
             }
            },
            "type": "scatterpolargl"
           }
          ],
          "scatterternary": [
           {
            "marker": {
             "colorbar": {
              "outlinewidth": 0,
              "ticks": ""
             }
            },
            "type": "scatterternary"
           }
          ],
          "surface": [
           {
            "colorbar": {
             "outlinewidth": 0,
             "ticks": ""
            },
            "colorscale": [
             [
              0,
              "#0d0887"
             ],
             [
              0.1111111111111111,
              "#46039f"
             ],
             [
              0.2222222222222222,
              "#7201a8"
             ],
             [
              0.3333333333333333,
              "#9c179e"
             ],
             [
              0.4444444444444444,
              "#bd3786"
             ],
             [
              0.5555555555555556,
              "#d8576b"
             ],
             [
              0.6666666666666666,
              "#ed7953"
             ],
             [
              0.7777777777777778,
              "#fb9f3a"
             ],
             [
              0.8888888888888888,
              "#fdca26"
             ],
             [
              1,
              "#f0f921"
             ]
            ],
            "type": "surface"
           }
          ],
          "table": [
           {
            "cells": {
             "fill": {
              "color": "#EBF0F8"
             },
             "line": {
              "color": "white"
             }
            },
            "header": {
             "fill": {
              "color": "#C8D4E3"
             },
             "line": {
              "color": "white"
             }
            },
            "type": "table"
           }
          ]
         },
         "layout": {
          "annotationdefaults": {
           "arrowcolor": "#2a3f5f",
           "arrowhead": 0,
           "arrowwidth": 1
          },
          "autotypenumbers": "strict",
          "coloraxis": {
           "colorbar": {
            "outlinewidth": 0,
            "ticks": ""
           }
          },
          "colorscale": {
           "diverging": [
            [
             0,
             "#8e0152"
            ],
            [
             0.1,
             "#c51b7d"
            ],
            [
             0.2,
             "#de77ae"
            ],
            [
             0.3,
             "#f1b6da"
            ],
            [
             0.4,
             "#fde0ef"
            ],
            [
             0.5,
             "#f7f7f7"
            ],
            [
             0.6,
             "#e6f5d0"
            ],
            [
             0.7,
             "#b8e186"
            ],
            [
             0.8,
             "#7fbc41"
            ],
            [
             0.9,
             "#4d9221"
            ],
            [
             1,
             "#276419"
            ]
           ],
           "sequential": [
            [
             0,
             "#0d0887"
            ],
            [
             0.1111111111111111,
             "#46039f"
            ],
            [
             0.2222222222222222,
             "#7201a8"
            ],
            [
             0.3333333333333333,
             "#9c179e"
            ],
            [
             0.4444444444444444,
             "#bd3786"
            ],
            [
             0.5555555555555556,
             "#d8576b"
            ],
            [
             0.6666666666666666,
             "#ed7953"
            ],
            [
             0.7777777777777778,
             "#fb9f3a"
            ],
            [
             0.8888888888888888,
             "#fdca26"
            ],
            [
             1,
             "#f0f921"
            ]
           ],
           "sequentialminus": [
            [
             0,
             "#0d0887"
            ],
            [
             0.1111111111111111,
             "#46039f"
            ],
            [
             0.2222222222222222,
             "#7201a8"
            ],
            [
             0.3333333333333333,
             "#9c179e"
            ],
            [
             0.4444444444444444,
             "#bd3786"
            ],
            [
             0.5555555555555556,
             "#d8576b"
            ],
            [
             0.6666666666666666,
             "#ed7953"
            ],
            [
             0.7777777777777778,
             "#fb9f3a"
            ],
            [
             0.8888888888888888,
             "#fdca26"
            ],
            [
             1,
             "#f0f921"
            ]
           ]
          },
          "colorway": [
           "#636efa",
           "#EF553B",
           "#00cc96",
           "#ab63fa",
           "#FFA15A",
           "#19d3f3",
           "#FF6692",
           "#B6E880",
           "#FF97FF",
           "#FECB52"
          ],
          "font": {
           "color": "#2a3f5f"
          },
          "geo": {
           "bgcolor": "white",
           "lakecolor": "white",
           "landcolor": "#E5ECF6",
           "showlakes": true,
           "showland": true,
           "subunitcolor": "white"
          },
          "hoverlabel": {
           "align": "left"
          },
          "hovermode": "closest",
          "mapbox": {
           "style": "light"
          },
          "paper_bgcolor": "white",
          "plot_bgcolor": "#E5ECF6",
          "polar": {
           "angularaxis": {
            "gridcolor": "white",
            "linecolor": "white",
            "ticks": ""
           },
           "bgcolor": "#E5ECF6",
           "radialaxis": {
            "gridcolor": "white",
            "linecolor": "white",
            "ticks": ""
           }
          },
          "scene": {
           "xaxis": {
            "backgroundcolor": "#E5ECF6",
            "gridcolor": "white",
            "gridwidth": 2,
            "linecolor": "white",
            "showbackground": true,
            "ticks": "",
            "zerolinecolor": "white"
           },
           "yaxis": {
            "backgroundcolor": "#E5ECF6",
            "gridcolor": "white",
            "gridwidth": 2,
            "linecolor": "white",
            "showbackground": true,
            "ticks": "",
            "zerolinecolor": "white"
           },
           "zaxis": {
            "backgroundcolor": "#E5ECF6",
            "gridcolor": "white",
            "gridwidth": 2,
            "linecolor": "white",
            "showbackground": true,
            "ticks": "",
            "zerolinecolor": "white"
           }
          },
          "shapedefaults": {
           "line": {
            "color": "#2a3f5f"
           }
          },
          "ternary": {
           "aaxis": {
            "gridcolor": "white",
            "linecolor": "white",
            "ticks": ""
           },
           "baxis": {
            "gridcolor": "white",
            "linecolor": "white",
            "ticks": ""
           },
           "bgcolor": "#E5ECF6",
           "caxis": {
            "gridcolor": "white",
            "linecolor": "white",
            "ticks": ""
           }
          },
          "title": {
           "x": 0.05
          },
          "xaxis": {
           "automargin": true,
           "gridcolor": "white",
           "linecolor": "white",
           "ticks": "",
           "title": {
            "standoff": 15
           },
           "zerolinecolor": "white",
           "zerolinewidth": 2
          },
          "yaxis": {
           "automargin": true,
           "gridcolor": "white",
           "linecolor": "white",
           "ticks": "",
           "title": {
            "standoff": 15
           },
           "zerolinecolor": "white",
           "zerolinewidth": 2
          }
         }
        },
        "title": {
         "text": "K-Means Model: Silhouette Score vs Number of Clusters (Elbow Method)"
        },
        "xaxis": {
         "anchor": "y",
         "domain": [
          0,
          1
         ],
         "title": {
          "text": "Number of Clusters"
         }
        },
        "yaxis": {
         "anchor": "x",
         "domain": [
          0,
          1
         ],
         "title": {
          "text": "Silhouette Score"
         }
        }
       }
      }
     },
     "metadata": {},
     "output_type": "display_data"
    }
   ],
   "source": [
    "# Create a line plot of `silhouette_scores` vs `n_clusters`\n",
    "fig = fig = px.line(\n",
    "    x=n_clusters,\n",
    "    y=silhouette_scores,\n",
    "    title=\"K-Means Model: Silhouette Score vs Number of Clusters (Elbow Method)\"\n",
    ")\n",
    "fig.update_layout(\n",
    "    xaxis_title=\"Number of Clusters\", yaxis_title=\"Silhouette Score\"\n",
    ")\n",
    "fig.show()"
   ]
  },
  {
   "cell_type": "code",
   "execution_count": 182,
   "id": "2bd01601",
   "metadata": {},
   "outputs": [
    {
     "name": "stdout",
     "output_type": "stream",
     "text": [
      "[2 3 2 0 0 1 1 0 0 0]\n"
     ]
    }
   ],
   "source": [
    "# final_model labels\n",
    "final_model = make_pipeline(\n",
    "    StandardScaler(),\n",
    "    KMeans(n_clusters=6, random_state=42)\n",
    ")\n",
    "# Predict class labels\n",
    "labes = final_model.fit_predict(X)\n",
    "print(labels[:10])"
   ]
  },
  {
   "cell_type": "code",
   "execution_count": 183,
   "id": "75bb28d4",
   "metadata": {},
   "outputs": [
    {
     "name": "stdout",
     "output_type": "stream",
     "text": [
      "[2 3 2 0 0 1 1 0 0 0]\n"
     ]
    }
   ],
   "source": [
    "X['labels'] = final_model.named_steps[\"kmeans\"].labels_\n",
    "print(labels[:10])"
   ]
  },
  {
   "cell_type": "code",
   "execution_count": 184,
   "id": "2013fcaf",
   "metadata": {},
   "outputs": [
    {
     "name": "stderr",
     "output_type": "stream",
     "text": [
      "c:\\Users\\Eddie\\anaconda3\\envs\\mlg-382-class\\Lib\\site-packages\\plotnine\\layer.py:364: PlotnineWarning: geom_point : Removed 1 rows containing missing values.\n"
     ]
    },
    {
     "data": {
      "image/png": "[encoded data removed]"
     },
     "metadata": {
      "image/png": {
       "height": 480,
       "width": 640
      }
     },
     "output_type": "display_data"
    }
   ],
   "source": [
    "import plotnine as pn\n",
    "from plotnine import *\n",
    "p = (\n",
    "    ggplot(X, aes(x='Spent', y='Income')) + geom_point(aes(fill = X['labels'].astype(str)))\n",
    "    )\n",
    "p = p + geom_smooth(color = \"blue\", se = True)\n",
    "p = p + scale_x_continuous(name='Spent', labels = lambda x: [f'${y:,.0f}' for y in x])\n",
    "p = p + scale_y_continuous(name='Income', labels = lambda x: [f'${x:,.0f}' for x in x], limits=(0,300_000))\n",
    "p = p + labs(title = \"Customer Clusters: Spent vs Income\") + theme_classic()\n",
    "# p = ggplotly(p)\n",
    "p.show()"
   ]
  },
  {
   "cell_type": "code",
   "execution_count": 185,
   "id": "be8c2ec8",
   "metadata": {},
   "outputs": [
    {
     "name": "stdout",
     "output_type": "stream",
     "text": [
      "X_pca shape: (2216, 2)\n"
     ]
    },
    {
     "data": {
      "text/html": [
       "<div>\n",
       "<style scoped>\n",
       "    .dataframe tbody tr th:only-of-type {\n",
       "        vertical-align: middle;\n",
       "    }\n",
       "\n",
       "    .dataframe tbody tr th {\n",
       "        vertical-align: top;\n",
       "    }\n",
       "\n",
       "    .dataframe thead th {\n",
       "        text-align: right;\n",
       "    }\n",
       "</style>\n",
       "<table border=\"1\" class=\"dataframe\">\n",
       "  <thead>\n",
       "    <tr style=\"text-align: right;\">\n",
       "      <th></th>\n",
       "      <th>PC1</th>\n",
       "      <th>PC2</th>\n",
       "    </tr>\n",
       "  </thead>\n",
       "  <tbody>\n",
       "    <tr>\n",
       "      <th>0</th>\n",
       "      <td>5910.615144</td>\n",
       "      <td>-1032.251471</td>\n",
       "    </tr>\n",
       "    <tr>\n",
       "      <th>1</th>\n",
       "      <td>-5914.687577</td>\n",
       "      <td>584.754127</td>\n",
       "    </tr>\n",
       "    <tr>\n",
       "      <th>2</th>\n",
       "      <td>19365.921182</td>\n",
       "      <td>169.741243</td>\n",
       "    </tr>\n",
       "    <tr>\n",
       "      <th>3</th>\n",
       "      <td>-25608.791777</td>\n",
       "      <td>192.914839</td>\n",
       "    </tr>\n",
       "    <tr>\n",
       "      <th>4</th>\n",
       "      <td>6040.491882</td>\n",
       "      <td>360.320442</td>\n",
       "    </tr>\n",
       "  </tbody>\n",
       "</table>\n",
       "</div>"
      ],
      "text/plain": [
       "            PC1          PC2\n",
       "0   5910.615144 -1032.251471\n",
       "1  -5914.687577   584.754127\n",
       "2  19365.921182   169.741243\n",
       "3 -25608.791777   192.914839\n",
       "4   6040.491882   360.320442"
      ]
     },
     "execution_count": 185,
     "metadata": {},
     "output_type": "execute_result"
    }
   ],
   "source": [
    "# Instantiate transformer\n",
    "pca = PCA(n_components=2, random_state=42)\n",
    "\n",
    "# Transform `X`\n",
    "X_t = pca.fit_transform(X)\n",
    "X_t\n",
    "# # Put `X_t` into DataFrame\n",
    "X_pca = pd.DataFrame(X_t, columns=[\"PC1\", \"PC2\"])\n",
    "\n",
    "print(\"X_pca shape:\", X_pca.shape)\n",
    "X_pca.head()"
   ]
  },
  {
   "cell_type": "code",
   "execution_count": 186,
   "id": "6d9c5c81",
   "metadata": {},
   "outputs": [
    {
     "name": "stderr",
     "output_type": "stream",
     "text": [
      "c:\\Users\\Eddie\\anaconda3\\envs\\mlg-382-class\\Lib\\site-packages\\plotly\\express\\_core.py:1979: FutureWarning: When grouping with a length-1 list-like, you will need to pass a length-1 tuple to get_group in a future version of pandas. Pass `(name,)` instead of `name` to silence this warning.\n"
     ]
    },
    {
     "data": {
      "application/vnd.plotly.v1+json": {
       "config": {
        "plotlyServerURL": "https://plot.ly"
       },
       "data": [
        {
         "hovertemplate": "color=2<br>PC1=%{x}<br>PC2=%{y}<extra></extra>",
         "legendgroup": "2",
         "marker": {
          "color": "#636efa",
          "symbol": "circle"
         },
         "mode": "markers",
         "name": "2",
         "showlegend": true,
         "type": "scattergl",
         "x": [
          5910.61514383659,
          19365.9211818893,
          10792.843872101163,
          -49768.05817005276,
          16419.367511782766,
          27774.58794051501,
          27694.512215489343,
          26914.38048440653,
          30349.61235599395,
          18046.102399907875,
          18424.998756798625,
          35955.09396305124,
          14754.649518603093,
          23027.511010497186,
          23608.290813898446,
          29111.760156955,
          26252.003982318693,
          33450.01694348607,
          13607.268929347267,
          34951.67554719638,
          36809.184683021034,
          25053.88342728771,
          19235.394918815793,
          27381.561545326993,
          21198.691417894024,
          10751.857007248696,
          40637.27034732316,
          33874.19005091719,
          28077.9734549639,
          104998.71624552361,
          10297.326830909975,
          14710.191306424415,
          28202.569128716623,
          26252.003982318693,
          21838.28921852743,
          14736.820882366661,
          34477.52755884914,
          23683.66721966358,
          25731.448446733786,
          18711.70630857891,
          20218.821513139937,
          27703.073116481937,
          21235.728911342758,
          12719.277067206995,
          21456.43696148503,
          15328.090844192942,
          27889.142221678594,
          20695.166315668608,
          17038.7720321239,
          8470.742710042701,
          25633.2810397745,
          17622.78366347174,
          23032.44253923022,
          27711.01013986105,
          16381.60348602022,
          28709.240280196915,
          18662.598228090133,
          9953.238457391288,
          9961.11396545496,
          16424.478966863142,
          30375.5650184792,
          32592.05311134723,
          17518.380281453294,
          19860.794402694042,
          16234.266029640557,
          26397.97880460716,
          27293.541263795447,
          19801.888081132045,
          22051.924737844463,
          16454.335579991213,
          23033.942773440962,
          1616.5441796282894,
          23627.507752491,
          9072.49304504954,
          29008.98079468636,
          37348.300497766344,
          14427.563220185377,
          17919.404003862957,
          27889.142221678594,
          14348.22610236692,
          9222.990032230731,
          30901.145887983886,
          26578.97082648914,
          26732.924607077908,
          23778.073854540144,
          13028.634706167604,
          13421.535798456713,
          28975.984379878966,
          7909.726118324908,
          28950.43661122643,
          19119.7404261133,
          21226.150487389652,
          25627.5070782299,
          9617.44439139438,
          20440.25023607959,
          1810.974879443147,
          33387.79369613824,
          29453.096786513757,
          2635.3097333012456,
          29507.852453199393,
          10220.92243459128,
          17648.29830712791,
          20666.537425726674,
          28928.26446421359,
          -4001.042056060432,
          20391.78272477747,
          31954.681356549394,
          13246.735292479581,
          10220.92243459128,
          31684.649338624535,
          32337.01782901658,
          23905.205151672595,
          46552.51177540026,
          20818.17891842015,
          6090.559549201314,
          14488.83342807052,
          25102.010682017506,
          18085.210896392156,
          13046.668345845792,
          16524.186984977674,
          13539.472006869306,
          34636.1218052071,
          108560.26692305422,
          17234.532601157312,
          8967.461009861569,
          26224.810555350115,
          19175.968982775663,
          24385.321052970303,
          19965.676705897393,
          28159.240267553127,
          22768.034959084594,
          15195.97437310164,
          10647.997272326835,
          29977.433356884765,
          18919.203142774964,
          11328.623526055602,
          31209.340221372597,
          6090.559549201314,
          23273.477357339125,
          11613.437999423346,
          26050.410342786534,
          22879.51462210941,
          22760.17818994893,
          15195.341175327438,
          19814.785904114302,
          26705.999216705513,
          22011.84591299434,
          20025.804144088193,
          19228.3454044734,
          10618.631505101272,
          21695.468256898446,
          30475.24603421576,
          20271.272465262038,
          20920.715440679898,
          39584.15545966519,
          26121.94996869588,
          28762.39608179085,
          19148.40489481381,
          29471.293348634394,
          30260.80270840285,
          9384.552053056805,
          30120.183379803086,
          8235.2493932706,
          9105.38044892379,
          34183.62146898579,
          34636.1218052071,
          29849.635953938054,
          15857.333982580643,
          24386.075411519058,
          11843.935850076427,
          26100.538662489034,
          29073.67711349676,
          14580.051968796206,
          32835.114425189255,
          34194.22224090347,
          26186.757352193697,
          22877.087247986507,
          10578.195997443745,
          20871.766447130376,
          22409.272171416927,
          20115.118618313798,
          30804.55785017584,
          25341.952547983026,
          21895.553743004613,
          22051.924737844463,
          16165.032438133047,
          27391.238432375725,
          22879.51462210941,
          19552.307532558716,
          18406.224920268352,
          31978.082029879286,
          28341.678588087823,
          31468.872734480414,
          29946.56714450914,
          27451.026273467458,
          12202.904787689598,
          23205.727976820723,
          604.2852064810595,
          39474.13988435525,
          16454.98613867014,
          23837.816973402925,
          24795.99076111971,
          16888.32901863911,
          18353.507248774622,
          19991.75603943451,
          15361.377897362438,
          -10245.557368609518,
          31296.70917041068,
          14780.164351514315,
          18480.600700204166,
          36125.714473377746,
          14050.743700851897,
          27220.81313261443,
          23125.821648003955,
          19451.560609354052,
          19119.7404261133,
          28660.13877581702,
          23809.866278468213,
          24533.429178443792,
          29456.551821884474,
          46552.51177540026,
          11760.121970365191,
          33381.56257997157,
          33458.67841658288,
          11045.940810802222,
          15910.498754026808,
          4473.882701656841,
          27174.77720538215,
          5063.964527753218,
          28440.929848312626,
          24898.017183245287,
          29414.485925930425,
          21986.996597361973,
          26352.65586708468,
          25831.98237457672,
          6943.333445746037,
          14396.499032691845,
          13496.111116256994,
          24802.72411516291,
          16454.335579991213,
          25048.90361155163,
          24378.119978694955,
          13752.200173625803,
          22469.025807933285,
          21938.14996821719,
          21226.1255806953,
          33249.30809855375,
          19608.856387207506,
          286.5637367228254,
          19389.6710689915,
          12627.405616690352,
          22556.938230636308,
          29612.927502599694,
          19365.18110870255,
          19199.803291724056,
          38604.84924703954,
          19612.907572895147,
          33458.67841658288,
          24310.43134945817,
          18277.604002109234,
          17380.693962414043,
          9910.089014081526,
          28470.244486915326,
          -37.134047461440176,
          22913.575523384294,
          23273.477357339125,
          28353.65636394247,
          13457.330747577897,
          -20341.747637395634,
          26203.94327125643,
          30439.47601258715,
          25804.14754505524,
          17801.134194511025,
          25101.553618892456,
          21660.80741591887,
          16454.98613867014,
          12627.405616690352,
          8235.2493932706,
          23242.86882519065,
          27189.683850464477,
          13250.011832180622,
          16253.763079612465,
          -5466.52463271014,
          26684.96445787477,
          31978.082029879286,
          21309.342451363,
          27297.558041488795,
          34963.45526908354,
          17699.940821213513,
          29791.27425102809,
          15547.383211954973,
          13584.492809461308,
          24548.573942172134,
          11703.743010656666,
          23837.816973402925,
          27615.00448669545,
          23068.843197621616,
          25852.188127314188,
          30215.159418684783,
          29111.760156955,
          23565.885935424783,
          22021.616354090125,
          24210.657988691524,
          38008.991907797004,
          16424.478966863142,
          12283.82508004255,
          3190.5745492813003,
          14427.563220185377,
          -11243.818821957559,
          20818.17891842015,
          17509.852729128732,
          23526.48554315898,
          6440.401433787984,
          4899.117619276642,
          29781.855207088203,
          104904.23580415221,
          34377.15265089619,
          20391.78272477747,
          16785.148412672817,
          18209.948163108238,
          26561.888182846484,
          28975.984379878966,
          9553.334609183106,
          10087.482927381983,
          21476.051768691123,
          12565.664264060131,
          18870.3625461172,
          23088.98262447836,
          18086.06482354531,
          29558.04536931764,
          25729.228674068334,
          10654.885647783825,
          19612.907572895147,
          18353.507248774622,
          33189.19044075767,
          13116.17366555539,
          12357.119917028944,
          25053.88342728771,
          23526.48554315898,
          26175.41041681131,
          38135.20904526317,
          10936.250575927625,
          27489.350962058747,
          10975.51247225318,
          19834.72625401569,
          20045.92043958473,
          10326.234744805743,
          11722.78385914775,
          275.4880318425443,
          26158.295155752316,
          28509.11336611886,
          28091.99183627047,
          15906.948138535028,
          19924.943194742827,
          12031.358640217084,
          30496.460889102633,
          17885.961993960213,
          18642.494880098217,
          17689.785621081424,
          20671.372083297003,
          18072.13623265206,
          18419.96771593602,
          34749.0317409546,
          15328.090844192942,
          17472.00713952065,
          10578.195997443745,
          40314.97346290944,
          15153.502093600582,
          28341.678588087823,
          18685.54398217563,
          28741.98790525879,
          18380.787663346982,
          12614.991690086257,
          23656.904921510675,
          20327.35146553596,
          18555.108497851434,
          10971.48800626225,
          31642.045667868813,
          28635.089641325103,
          20118.120682515022,
          24602.20723255886,
          17810.59298689929,
          22257.05108837395,
          24985.98110653885,
          20409.249445090194,
          -19614.24860532665,
          20747.241064107,
          26959.065118730578,
          11452.16845654906,
          19739.89191671999,
          -17796.032951413163,
          16054.419172413476,
          3678.4651365274212,
          9189.374928016408,
          -2479.007977776162,
          24235.500168351427,
          28804.526212886085,
          24075.845793430268,
          18900.134141354833,
          17801.134194511025,
          14804.137454839954,
          19616.39686335239,
          -10245.557368609518,
          17287.32223464353,
          12462.986710049257,
          16253.763079612465,
          34753.84294768404,
          27590.95112228771,
          27905.475031197657,
          19987.293499300948,
          20088.220563761213,
          16982.857041388237,
          22627.738926595077,
          19834.72625401569,
          8689.127046933587,
          29154.628518391448,
          13247.94895683639,
          37384.39460009589,
          30120.183379803086,
          21560.422011249888,
          8775.457114747724,
          36093.15346251882,
          28382.767073438245,
          29791.27425102809,
          614300.7373789934
         ],
         "xaxis": "x",
         "y": [
          -1032.2514712694704,
          169.7412430872345,
          -244.11549960349325,
          -2128.1251597334635,
          -369.54216277533254,
          -315.4276391952166,
          269.7200167474459,
          -768.5086342291847,
          -464.0974162883101,
          -167.89932908997827,
          -139.40290022634778,
          -91.24252846607044,
          -471.2584827837537,
          -1073.7687629351597,
          -1439.4128219224333,
          415.70876956014393,
          153.3131392094227,
          76.2613678078504,
          -337.8707887822124,
          170.68943930520985,
          394.11082934396075,
          78.68095374928872,
          451.56608797726943,
          -890.5933863880731,
          334.16838954441914,
          -880.572657262615,
          -1008.6154823745405,
          -233.40788296199648,
          -172.10948762865712,
          899.5782907516289,
          456.96547315813154,
          -183.68064438338357,
          -1007.5102413378695,
          153.3131392094227,
          -746.9346732859016,
          -452.9029480231527,
          -48.43269223193139,
          -219.46049500393414,
          -96.07161108866156,
          -238.0003284377802,
          -111.23208778565453,
          -859.2820285452592,
          -1277.89912906912,
          -194.695465764897,
          -667.5152568506343,
          -1450.9656018849976,
          -356.82035986479025,
          74.1607973099215,
          -891.0912529455982,
          -144.1209650532539,
          368.0748796961195,
          8.202444760935697,
          110.56242282650632,
          -346.18876477031245,
          33.49270935737404,
          -96.03756057133188,
          -743.8219943954396,
          -640.7948773091982,
          -168.70831889498734,
          -755.7789458651006,
          313.75091800189654,
          127.18672306294494,
          -172.3711030714697,
          -325.07420985456497,
          -896.7341906649581,
          -1223.6116578663814,
          -304.6670365217784,
          -1130.151248851628,
          -85.13977564984839,
          -891.3750617996101,
          -105.63627030092094,
          -320.04938495105137,
          -262.441832861909,
          -229.10295170560198,
          -243.27328525042842,
          -918.8467069612835,
          -463.3651589914143,
          98.93763295260526,
          -356.82035986479025,
          -568.1995046038155,
          -682.5167997596513,
          389.5103853014169,
          141.45910093140697,
          -1300.0668851139073,
          -892.0620276766917,
          61.60350994608664,
          -47.83413731573508,
          -62.207930305622874,
          -197.25257234551975,
          -1289.2224535864614,
          193.21878839459106,
          -828.6586912446363,
          -389.94342894403803,
          -1330.0350188303144,
          -262.3769371615137,
          8.837307834282598,
          -447.15364413894844,
          180.70016380583522,
          -125.60414912168683,
          -447.1106329118802,
          14.3337789623554,
          -522.664170254142,
          -205.476408238624,
          -86.96410900112416,
          -393.28415131634085,
          -26.628205235447094,
          -5.100377082991417,
          -168.47432310013468,
          14.3337789623554,
          -494.105741927118,
          -234.16053464005833,
          -401.30042452878513,
          -760.8411609304197,
          -137.23430246616246,
          -341.97282861375385,
          -168.0079444927842,
          449.65773015045386,
          432.9489530149771,
          193.58082742175165,
          -1414.274900173224,
          -374.6488267301456,
          -1111.898775027037,
          787.1210859144079,
          -122.5793876514804,
          -218.90986046626938,
          60.396873083312755,
          410.94083378598464,
          -582.6372708014885,
          -1041.328534217949,
          -320.7584957282356,
          63.89560999221264,
          -462.4284901030084,
          -637.5928797075842,
          271.0301587689437,
          28.422455200212912,
          -518.7111873853339,
          -401.9908560297554,
          -341.97282861375385,
          -488.0520563166081,
          -206.57189025950862,
          -422.35627973466126,
          268.5864123345704,
          -998.2952377096401,
          -566.4373207160476,
          245.86776332380404,
          -507.38635402321387,
          -264.9536048897453,
          -600.6351628360584,
          -291.21387718393584,
          -911.9247014563206,
          -697.1736977827112,
          -57.00363158646467,
          -593.2487544917703,
          347.578552939575,
          -206.12731507912602,
          -632.9179670431121,
          -531.6940451460372,
          -76.30845040738781,
          -627.4546619028873,
          75.17594263157685,
          -681.2835677150628,
          -817.2058886960848,
          -376.0270423815599,
          -268.13969328482233,
          -6.827040195392183,
          -1111.898775027037,
          -1049.7022180236165,
          -523.8380264592269,
          82.08562217448063,
          50.50545534830115,
          -635.7467995446733,
          220.3901259539237,
          24.578205666517775,
          -213.70449888646047,
          -313.5867839081608,
          -497.11033497074914,
          -322.2103165851758,
          -196.42859147969475,
          -125.90811121856026,
          -850.5702250205026,
          -255.58317480924308,
          -686.2932863202237,
          -64.13319949209865,
          -1203.996881354991,
          -85.13977564984839,
          -655.7675250822753,
          -55.67924382723482,
          268.5864123345704,
          8.732449460127496,
          -214.1403185575447,
          -11.823786154999471,
          -623.4725799647484,
          263.7626039196206,
          -983.9684770580128,
          -227.39975571012639,
          85.29311410858612,
          -626.6829859125675,
          -335.5742846714408,
          -770.241594732426,
          -191.32673904299588,
          49.41044345667746,
          -89.43863876651666,
          -1874.904131544682,
          -103.28642005435636,
          -426.8494246887154,
          -57.0746690720529,
          -192.7672480461274,
          -514.5255917103228,
          -70.28134715837896,
          -653.190164598005,
          -1058.6333251163394,
          -44.38267219651276,
          -420.4842696207006,
          -1295.0866810654197,
          -196.46077698279993,
          193.21878839459106,
          390.031841449276,
          -418.63573050201666,
          -193.70159213456924,
          -66.00858160299892,
          -760.8411609304197,
          -343.82873488973854,
          -920.0012347786709,
          -232.8183779168601,
          -323.69926464434064,
          -744.3785906582362,
          -299.1691962766224,
          -353.6301988665,
          -344.65501124402675,
          76.38295953978015,
          47.58533658448216,
          50.87676957886569,
          -914.7060165024586,
          -893.2428464852753,
          36.41451112241865,
          -316.84325893075845,
          -255.84380390991143,
          366.62821195513266,
          -85.46217348122622,
          -891.3750617996101,
          254.34910610555715,
          185.52349722502834,
          194.67300665171047,
          218.00564587550343,
          487.8745621560919,
          -1052.9876277948902,
          -265.839053556281,
          -353.18084820480624,
          -166.04564286409985,
          -428.3980156160369,
          -836.43046383446,
          273.9575876157386,
          -652.1337392117157,
          -241.66329590641388,
          -519.7109411707419,
          -192.95852516311461,
          -196.39829326111013,
          -232.8183779168601,
          -625.1534083879609,
          -335.80447116639164,
          105.82452321660523,
          221.2992249404008,
          -891.8295697769928,
          -420.2616754643272,
          -190.0772956190082,
          -488.0520563166081,
          -341.0392926686241,
          103.96011697035345,
          -113.6662322818704,
          -1081.8358350422204,
          -1292.9237671872677,
          -328.10441701555646,
          -379.0806396799045,
          -19.487703700527003,
          -638.9719319244482,
          -191.32673904299588,
          -836.43046383446,
          -376.0270423815599,
          -142.68928412229502,
          -662.2623583104285,
          -123.82988484852754,
          -623.9129827216601,
          -538.2760776033864,
          197.37265421652825,
          -11.823786154999471,
          -824.337858188646,
          -538.1085229067003,
          -890.38153330266,
          -726.0642821970662,
          -30.329092196016617,
          -292.6339515271224,
          -553.1043967495847,
          484.90401300142537,
          -346.2751281168383,
          49.41044345667746,
          456.686590555448,
          181.51126654753548,
          -72.05863426819354,
          184.15387767176432,
          415.70876956014393,
          -780.6710651452643,
          154.13282914578343,
          -502.9159026267697,
          -1296.1231927319277,
          -755.7789458651006,
          -1060.8571646760386,
          -156.68077277895358,
          -463.3651589914143,
          -131.49688444062448,
          -137.23430246616246,
          71.86929689184709,
          264.50190051177395,
          -103.59140568226779,
          -493.9646896505208,
          -584.4868651596976,
          736.7420483299306,
          -422.5772730010977,
          -26.628205235447094,
          -749.026048311097,
          -736.8892900121828,
          -851.5452017860681,
          -62.207930305622874,
          -636.8994456979966,
          107.82888177662592,
          -743.0953723647411,
          141.56410705706642,
          -408.4404042517813,
          516.604826742275,
          -485.32011278349734,
          -282.15769425015736,
          483.6131873104068,
          263.4028766336056,
          -196.39829326111013,
          -103.28642005435636,
          24.243353490464894,
          482.78109991933843,
          -702.2434476392019,
          78.68095374928872,
          264.50190051177395,
          -72.46907575286197,
          -298.8553345561201,
          -1238.8049734332888,
          146.94604235812065,
          -742.6360887374952,
          -416.62784953025573,
          -403.9271455875673,
          -159.84662739176628,
          -52.15963576483235,
          -546.0609042429724,
          -366.5862239011997,
          -658.84097741467,
          111.39217647051936,
          -170.57229205925466,
          -519.9518337526765,
          -883.4896151417945,
          -286.82387211943205,
          -767.2946868079296,
          -15.339327258358836,
          -107.71877201455482,
          -500.5868005388336,
          -885.3039098124566,
          -1175.7553794057148,
          -569.7348934245998,
          -1450.9656018849976,
          188.19851695944206,
          -196.42859147969475,
          76.37631286865775,
          -800.4772780080092,
          -623.4725799647484,
          158.45839765642665,
          -136.74723932806128,
          -399.4842714222017,
          -619.1318857726088,
          148.95984518722977,
          -17.612744971754537,
          -379.6763367951527,
          -316.8566499163846,
          433.3289930758363,
          -242.6946726057844,
          -1486.23708869856,
          -140.72112099972043,
          -100.89700822970548,
          -796.8695089555047,
          -135.77242144385434,
          -536.1757496755348,
          -261.5259023536337,
          -1213.4052330218399,
          136.81114461482147,
          -736.7244497431793,
          -1035.6760726412522,
          -507.72101702667993,
          -1004.744491487125,
          -590.2497770853928,
          -1040.3649393640624,
          -90.8738342563648,
          -650.9418274084716,
          -119.36843739529154,
          90.42101355676861,
          -901.4954094910663,
          -379.0806396799045,
          -178.73390565771336,
          333.0815522711542,
          -192.7672480461274,
          -616.4079442277969,
          293.7391119484303,
          -623.9129827216601,
          260.42572226731875,
          -534.8520604147369,
          -178.0254363735656,
          -767.1069812815938,
          -1235.945887818804,
          -978.6548258836856,
          -636.7885677785132,
          -416.62784953025573,
          -17.81027313482632,
          -911.0420564268306,
          -276.4409616684968,
          -495.4736747513758,
          -817.2058886960848,
          142.30269101918347,
          -402.66393043062317,
          -444.75147667101857,
          -453.6145464663767,
          -30.329092196016617,
          11964.637792681237
         ],
         "yaxis": "y"
        },
        {
         "hovertemplate": "color=3<br>PC1=%{x}<br>PC2=%{y}<extra></extra>",
         "legendgroup": "3",
         "marker": {
          "color": "#EF553B",
          "symbol": "circle"
         },
         "mode": "markers",
         "name": "3",
         "showlegend": true,
         "type": "scattergl",
         "x": [
          -5914.687577134169,
          7099.551322402077,
          -14491.748351998323,
          1104.1469948930153,
          -13631.650683090582,
          -11707.516989172764,
          -2869.344115839982,
          -9828.038401480646,
          -30260.643657012755,
          13234.22613060403,
          -19782.58013920032,
          -23922.880236226752,
          -13631.650683090582,
          -22815.234691748654,
          -16116.006337864212,
          1921.7634482906758,
          -445.7955533364184,
          -4434.934357326472,
          -17701.96896352089,
          -3159.461385158885,
          -1472.5889975452071,
          -21502.03802038954,
          2089.4561104770287,
          -10701.087896260418,
          -18492.809769497868,
          -15335.840613166505,
          -2652.241749226079,
          7102.621845276055,
          -2285.9888459691824,
          7937.7241771019335,
          3117.4345615068405,
          -21733.282014048615,
          -8775.025988634816,
          77.66367677553843,
          -26163.06787689754,
          -18800.314251082702,
          1278.659366500268,
          -183.77462682766688,
          -13403.92063760415,
          -13972.631595548035,
          -605.7915455354112,
          -19952.912102247436,
          -6498.685727985842,
          -15616.359246413498,
          -1105.0098707650354,
          -5399.90620093069,
          -11620.445141092494,
          -3532.715226377608,
          -7463.465569523866,
          -6157.39732804844,
          -7875.858982802156,
          -7701.772751048736,
          -37220.487296056206,
          7920.829372428967,
          -20570.31487972781,
          -6263.509009146381,
          -33552.679645105265,
          -11520.909081657821,
          -8093.797263487954,
          -8476.698344542168,
          -14077.016811827569,
          -14157.124850540333,
          9648.292330693765,
          -22940.339677500342,
          -18876.99641699278,
          -14491.748351998323,
          13387.231626066814,
          -7939.051951154487,
          -16832.769691179285,
          -22583.923435071374,
          -17009.977269337447,
          -29680.32703519625,
          1942.7423514162808,
          -23416.484222213592,
          -11935.12875621168,
          -21423.021249545593,
          -5233.905550978632,
          2172.2047121281003,
          -7957.97619750889,
          -21883.654438693062,
          -1520.7946038419877,
          -5569.016302514323,
          -4076.0700309780973,
          -13678.354877147482,
          -6158.760663785161,
          -24828.877266140444,
          -13432.579476752318,
          10241.920328065271,
          -1243.6046048463506,
          -8430.91522113941,
          -20860.36982141169,
          -9882.120162890511,
          -4252.620525938599,
          13551.403876099608,
          -3573.225343299302,
          -1316.0579725092718,
          3965.3298636203126,
          -34154.13041228331,
          3455.1184204184888,
          18574.195457280584,
          -1954.1215611104049,
          -1736.8995794123252,
          -10613.746576119976,
          -9195.554215375145,
          -23795.140986226525,
          3303.130155724964,
          -25051.76767848625,
          -3928.8536969711604,
          -1316.0579725092718,
          -15811.622172782912,
          -21625.422893820047,
          -1897.8438444682213,
          13058.9769814574,
          -4900.420927466086,
          -7325.804865502866,
          4990.568316563872,
          -8616.687156071459,
          -32739.270882035904,
          -25096.443561411477,
          -12709.01405733242,
          -8791.74358277203,
          -3453.5609420318888,
          -97.34564812647146,
          -22958.09014935693,
          -4568.051766190166,
          -14057.518931261691,
          -13814.00299687033,
          12156.868629142078,
          -969.1291424639121,
          -38992.59835738616,
          -4785.768130315804,
          2347.3178527135547,
          -7047.053443638824,
          -4437.598700854242,
          -24803.275386916943,
          -25404.540129966917,
          -28033.43688327637,
          7719.432228647383,
          -10088.868695368745,
          -22174.52684742645,
          -2639.0344027376623,
          -9828.038401480646,
          -26105.24681496674,
          -7247.219878291151,
          -29680.32703519625,
          -6414.0508783514315,
          -16465.669736218115,
          110120.12484458617,
          1902.1344847410735,
          -21727.510564176762,
          -17768.270666235832,
          -6156.831476476387,
          -5791.039641341013,
          3026.334950755311,
          -1642.5328762490599,
          101646.27869386086,
          9019.831600383151,
          -5520.728777343045,
          -37592.32121763322,
          -7190.622319083845,
          2433.552367413818,
          -13306.506526031077,
          -9938.24027931005,
          -4686.914581452884,
          9663.865883316606,
          -25736.648062110737,
          -10919.379145654635,
          -16574.235102491544,
          -7098.605810251639,
          -7463.465569523866,
          4710.170267690264,
          -16311.217103817293,
          -7180.840033409011,
          18288.436151498012,
          -17314.320593839886,
          -3491.3270298553525,
          -731.8933584694471,
          -13426.72127854746,
          -3528.5174972062923,
          -5364.898898519507,
          -18633.368733132495,
          -10806.080612835647,
          -11496.184892448615,
          -1135.1302887019833,
          -15973.950707718443,
          -35109.2058707422,
          -987.025932214579,
          -5731.988485754483,
          -7069.0270533895255,
          -5274.541754217732,
          -17416.144699205746,
          4590.320675360168,
          3014.7117013385005,
          13716.671200261077,
          -21484.153099773826,
          -14398.048069653909,
          3152.423749185669,
          -16815.5501652767,
          -18229.680853736223,
          -12203.506981645964,
          -2275.656593048653,
          -3085.9367629892813,
          -21412.792452379897,
          -13680.94750954864,
          -14498.935086214911,
          -7650.4933980401465,
          -8793.982498636344,
          -16459.1091324081,
          -6022.321443019563,
          -10014.282519335664,
          -862.6414613447339,
          1881.0235273641783,
          4847.306510184428,
          6661.705839678345,
          -9644.411393642104,
          -6243.1363864337045,
          -17786.924087779837,
          16017.221657679096,
          -68.58785230944017,
          -8204.233749627454,
          -6152.045359927395,
          -35326.09121418538,
          6781.728347707896,
          -12021.951411512431,
          -2071.9698394349584,
          -11550.512985157802,
          4710.170267690264,
          -16551.579932189597,
          -5479.872485918062,
          -16916.329908721804,
          12326.961466644701,
          -26163.06787689754,
          -6165.624936521316,
          -15320.990664288707,
          -32739.270882035904,
          -15521.261464377594,
          -3070.095893033742,
          -18201.94173461631,
          -14060.8351205986,
          7158.66974764051,
          1909.5312271927453,
          -18691.39154997572,
          -20083.324652852974,
          -14922.397818942161,
          -5834.196047628368,
          -13258.84304128759,
          -19086.27577347061,
          -18669.665135308074,
          -23491.924026244218,
          -26295.762103361267,
          -9695.5727177661,
          1057.9168458349338,
          -16396.462673944225,
          13275.009930247526,
          -35393.50768865106,
          -12535.068086569261,
          -2237.2720037372105,
          -28092.090439176507,
          -13678.354877147482,
          4977.677013688757,
          1956.4832421379283,
          -1388.5478857650755,
          14224.16485009021,
          2205.7177595615667,
          -219.27970421582017,
          -5518.471981510731,
          -5326.67125234749,
          -26325.43824869884,
          -15478.034439942201,
          -2574.751986859216,
          -18836.157114428603,
          1941.6717421579406,
          -29163.1176475593,
          -7877.24708110635,
          -11909.081960853087,
          -3273.2673569243716,
          -16933.287377971566,
          -4901.292999087722,
          -18812.694611173152,
          -23744.2988382867,
          -9113.54104028801,
          -7864.675238011688,
          -20756.267848566287,
          -6364.095270838099,
          6141.406617316071,
          10048.436684980868,
          -8614.872039859529,
          -5364.898898519507,
          2551.8756849671795,
          -843.7542510967575,
          -11806.145895450614,
          -15937.607884888264,
          4466.114071788948,
          -10095.680553827106,
          -18624.592372069998,
          -17877.798338975164,
          -18817.02633809051,
          -13804.21682942781,
          -7833.770936123216,
          -10271.216114465868,
          2991.164684473652,
          -8042.524394973776,
          6802.099908341475,
          -11736.831031786556,
          -16396.462673944225,
          -20801.659872227665,
          -5118.617087960899,
          -6675.912724828297,
          -11456.4044510855,
          -6102.069962487546,
          -14624.002041914036,
          -5426.866192572556,
          -9261.379754251919,
          -3340.2408013258955,
          7775.398947972228,
          105455.77346296431,
          -7985.18282557268,
          -7109.11231795065,
          -25016.702181444143,
          -6164.277868886012,
          -11935.12875621168,
          -5559.076366562199,
          -3501.4686514003206,
          -306.2076953316218,
          -12208.519560034958,
          -2125.5145218252746,
          -25368.378859493787,
          16880.555324497032,
          -18938.13218900617,
          -5225.169025852128,
          -10919.379145654635,
          15009.556860175799,
          5082.065834853611,
          -1734.9884541126203,
          -16465.669736218115,
          3991.2532636189567,
          -5864.578522764569,
          2085.040841292749,
          1507.3368424264086,
          -12261.795948974124,
          8288.656491614765,
          -14537.738023151634,
          -15307.553890246754,
          -4900.420927466086,
          -15297.388327940133,
          -9116.293270710674,
          -940.7385654747358,
          -16230.255596129928,
          -27615.553147869694,
          -17679.019634846078,
          1872.3557216790814,
          -13515.781220102694,
          -17403.57188800551,
          18586.62633466465,
          8288.656491614765,
          -9733.34257660185,
          -18853.602163085434,
          -15849.101940011946,
          -377.8793327508746,
          -8954.913808108056,
          -25964.377287017123,
          -6243.1363864337045,
          -11113.054873544499,
          -29092.065278393038,
          -17552.385519740437,
          -12357.34365614086,
          7632.42276439098,
          11762.130753932895,
          -2397.8770791708635,
          -9379.558130103323,
          -6158.760663785161,
          -24166.834207900873,
          -32513.716990109737,
          828.7382968660577,
          -6158.760663785161,
          -848.7483982167239,
          5270.814979764443,
          -15203.136729334481,
          -5079.076969837187,
          -25038.985122924554,
          -13258.84304128759,
          -14050.666626784328,
          -17623.89770931409,
          -6354.78109102581,
          -16396.462673944225,
          -11812.928173552393,
          9225.79742515908,
          -20756.267848566287,
          -7109.11231795065,
          310.8836106946253,
          -35109.2058707422,
          -7746.2320494383885,
          -25139.059204502595,
          1812.3035241973544,
          13275.009930247526,
          16880.555324497032,
          -540.397402442745,
          2157.6708220104438,
          2293.7794471416473,
          -9522.214736967782,
          596.3566798803224,
          -5569.016302514323,
          -8179.938371018431,
          -16332.754794311853,
          -13029.648833700825,
          6241.664143440038,
          4292.9274119935135,
          -18041.79659697352,
          -26896.961064873325,
          -15616.169661818898,
          -8655.453756327313,
          -15524.644807216304,
          -14023.383715219614,
          -29700.28642707978,
          -2840.087577535317,
          -10026.70873536527,
          -10820.726911506434,
          -13804.21682942781,
          -137.3885356905272,
          1967.3450818769256,
          -11102.8859498811,
          -30146.454798311035,
          -7862.477569588049,
          -9666.839198372358,
          -5347.802836722658,
          -15012.628989095418,
          2731.0709018922216,
          3504.220418294492,
          -6680.1516907726145,
          -21883.654438693062,
          -11136.7355712367,
          -13531.920465188752,
          -4446.795486663931,
          -1243.6046048463506,
          -9594.044839896149,
          -9666.839198372358,
          -9782.425050026579,
          -17650.295242185857,
          -5349.858824939955,
          -18229.680853736223,
          -3340.2408013258955,
          -18177.763997271035,
          -23735.364505773738,
          10281.135643574406,
          7127.54252277611,
          -7569.249133136925,
          -33552.679645105265,
          -14498.935086214911,
          -19673.653037376793,
          -7622.4005683550595,
          -18938.13218900617,
          1858.9904061968125,
          -7343.239181228643,
          2551.8756849671795,
          -10676.449183616332,
          -25184.182210089457,
          13481.210764468398,
          -48228.72815443366,
          5957.8934793865055,
          -19366.772172054265,
          -25612.98132235462,
          -7754.865263829123,
          -2621.0136770315808,
          -1640.5137412444114,
          -8102.909110842611,
          -3094.7495871493966,
          -6498.685727985842,
          21139.99519378426,
          -6563.9790025447555,
          -18026.74226088499,
          -20377.374853380887,
          9657.055344112896,
          -18014.826053099692,
          -23935.276033041762,
          -16191.001614823655,
          -12357.34365614086,
          -1115.4386548607965,
          9546.589325071885,
          4292.9274119935135,
          -7898.929720281126,
          -11368.10567909826,
          -3379.49991098873,
          -17650.295242185857,
          2433.552367413818,
          -14019.908989758656,
          6387.565091626506,
          -30260.643657012755,
          4857.658196673603,
          5864.318579881998,
          -12463.535103835779,
          -38581.14781904076,
          15249.558784602528,
          -5834.196047628368,
          -21887.329539118833,
          16548.08450298097,
          -24312.339065768003,
          -29991.600489490633,
          -21995.09911002373,
          -4059.0788050595806,
          -22583.923435071374,
          -28982.348948379105,
          8651.590792732328,
          897.2362090960046,
          -19385.04254164977,
          -15328.986890394033,
          -3464.522584166076,
          -9703.71424748518,
          -10064.529423822483,
          -18147.695451607593,
          1115.4411267086393,
          19065.709280859708,
          -3559.796445664325,
          1997.1296395071217,
          944.5640333649541,
          6387.565091626506,
          -4103.758782490091,
          -17669.744471971382,
          -9238.14528269398,
          -8669.89896268839,
          -2142.3519563363243,
          104645.78337415906,
          6439.620943693314,
          -11662.653853309906,
          10378.98083591698,
          -22817.744427379203,
          -16468.480612344785,
          -15258.76119469027,
          -28714.872217345273,
          -10982.079046246165,
          11260.273685996635,
          -9487.618463691475,
          -2686.5930248510776,
          -11662.653853309906,
          -10541.788127993968,
          -18080.571825776824,
          7430.057416445571,
          -10290.396577011104,
          -13306.506526031077,
          -9733.34257660185,
          973.4747175146374,
          -11406.174179734726,
          -24786.711479299076,
          -43432.08477380843,
          -15171.263349407549,
          -16359.974605368072,
          -20111.55254186849,
          -7111.932246090427,
          -14202.812296254746,
          -15450.344186064938,
          -18693.966243918014,
          11762.130753932895,
          612.2930306919714
         ],
         "xaxis": "x",
         "y": [
          584.7541270875524,
          460.3658682966815,
          75.43778317614237,
          408.98553677482414,
          104.21237303755079,
          301.6534097639658,
          572.8277390710251,
          456.11158574995784,
          95.84082139305269,
          398.2019171866061,
          351.17985471579266,
          221.85325563147634,
          104.21237303755079,
          221.65348880258804,
          210.91364123569707,
          518.1707548380057,
          602.8870552886343,
          531.5510883332842,
          332.25660144700055,
          416.1547077026266,
          546.1317433703784,
          220.48851567152195,
          659.3631949666625,
          159.41184975408362,
          234.3610408711468,
          374.4997390081193,
          549.7655060620525,
          314.0315362469684,
          283.03123307598923,
          831.0834236954151,
          594.1808681792481,
          282.8365891161115,
          457.826726550242,
          380.69943900741237,
          151.03180267436636,
          344.41759055053797,
          626.0454638397352,
          590.5300706395665,
          429.2061073256764,
          466.0925882108457,
          481.9426558247738,
          305.93079171532486,
          483.45467475583513,
          353.2863276066429,
          277.7667322019116,
          337.1277763719706,
          439.60852632112284,
          311.2180569421161,
          513.7391885192424,
          317.4462465512374,
          191.55858397834191,
          227.19278159485185,
          23.144723079947337,
          853.0108706849502,
          332.60341661154126,
          196.1750310159128,
          31.782176333578732,
          481.3668050086045,
          258.67209181835364,
          194.41007981195483,
          327.01541787421513,
          207.94952824643943,
          615.2748229170263,
          252.59548622403824,
          225.20192543070732,
          75.43778317614237,
          445.89249516552513,
          536.0196338969158,
          -79.8921773082906,
          243.49608071678276,
          341.40893249291145,
          117.77950629939686,
          460.15575609397416,
          252.04902455291997,
          367.6249583988805,
          273.4276327727657,
          599.3131589002638,
          684.0691185732086,
          498.6672669847277,
          227.21626557229558,
          542.110908412764,
          102.8936472677245,
          296.95990233951267,
          359.7325568919926,
          416.0803960245275,
          -105.09754496645057,
          286.4385328327882,
          636.0295397064896,
          426.83408724216343,
          299.33876951563144,
          231.39621322145123,
          335.39510561040703,
          606.4999820303876,
          660.2155493019532,
          624.7207798756489,
          617.4614919245533,
          612.2219200956016,
          57.554174615862614,
          297.4357007998801,
          594.4781292726705,
          384.69749856033724,
          520.1032406715808,
          497.52186287954254,
          207.30065124045498,
          19.883822397940534,
          735.3932301509141,
          135.47201002020935,
          598.7145081441504,
          617.4614919245533,
          232.28121366263838,
          260.73148648624783,
          216.38802178838935,
          635.9799929039604,
          221.8403014671578,
          463.67830324761167,
          540.976337655971,
          283.99997278068565,
          44.21345405496667,
          236.49494767915039,
          435.3783092587927,
          235.75011928915157,
          265.04372457688913,
          411.75620065227434,
          268.67000956743766,
          588.9889663876501,
          396.56079570470575,
          416.588829606135,
          585.9962517505124,
          493.73075239269144,
          -66.59653636221056,
          525.4942067770272,
          471.0397421156959,
          266.8308215502122,
          578.7869920444406,
          85.89373921262245,
          187.81963519217038,
          132.0775471867557,
          420.98868356310425,
          486.7720630286096,
          222.89537363761002,
          480.2091092440082,
          456.11158574995784,
          175.2627152409529,
          252.00459350916626,
          117.77950629939686,
          144.4040966417129,
          345.0250028352421,
          2592.9299414286497,
          680.9720995368634,
          -115.86298486851747,
          233.57242795497865,
          590.0623030873642,
          311.75955554200647,
          495.49615071431157,
          619.9423854668116,
          2589.6741814122356,
          685.3350673445739,
          360.3845213069202,
          -41.213902575980484,
          536.3859387134862,
          526.9704338287132,
          171.41262874028985,
          232.36291692377813,
          468.9642194083703,
          725.0448300075664,
          149.92255399463747,
          298.4422160808827,
          367.5603442155555,
          571.8883100402782,
          513.7391885192424,
          293.66707515938896,
          392.3630995787324,
          244.3937946588507,
          703.9812261725391,
          259.24213704726867,
          580.5212840219077,
          136.84085495877832,
          358.02245755062444,
          346.4610381456387,
          420.7610522237027,
          253.59601968892392,
          466.2382020392472,
          376.8965461121465,
          643.1782430052325,
          403.5233381673708,
          20.653644337754486,
          363.4143696849999,
          406.59607888413916,
          168.2877333243877,
          544.2961286637681,
          191.9772230941191,
          735.8987441062434,
          311.3778200179837,
          371.1290058287417,
          306.1692830749565,
          372.0723604832788,
          705.0765053902022,
          326.72113311652066,
          287.4694452724029,
          146.39986348808836,
          440.4160184892054,
          214.93456264540006,
          295.2940113123124,
          418.9325340999934,
          353.9460918700333,
          233.75309089826087,
          49.13568433219081,
          293.47922315586663,
          241.4326278500863,
          460.7946822217355,
          244.0035320536412,
          484.02909040704935,
          351.7360480796235,
          479.74496708748853,
          148.32617208607775,
          555.1543914333461,
          334.44873939253415,
          666.2379662074322,
          639.399811943004,
          334.6006411649206,
          554.6346708006885,
          -28.28149769291176,
          738.0343715341901,
          312.23604680474193,
          434.3571064855004,
          369.28124942736844,
          293.66707515938896,
          313.67368448351203,
          571.937493016997,
          369.6240396866436,
          835.4764882522171,
          151.03180267436636,
          185.0939644705996,
          48.350844598826804,
          44.21345405496667,
          386.37040903448985,
          518.2499119285815,
          210.1307346079474,
          414.6994247346356,
          429.74173531140946,
          452.57764312921,
          300.9470374985834,
          303.2663078894757,
          378.25776194856314,
          485.32755397811155,
          363.6784444359007,
          170.02918005310764,
          235.04884965569784,
          284.83146502329595,
          145.1579363822845,
          157.5186583492485,
          372.3400309764153,
          377.26281675594606,
          344.2804046958339,
          -23.540544135065396,
          435.02812048489267,
          213.82702415940912,
          172.16846068204882,
          359.7325568919926,
          663.063628039009,
          353.40380748950605,
          629.0494201786587,
          623.7465484701387,
          741.4306316407758,
          315.3001577412194,
          206.75186675550557,
          540.4014514674085,
          206.37970882508753,
          291.1850005662636,
          249.1033743751754,
          253.23405337903213,
          477.2319861691655,
          134.4568621544384,
          218.79235790112685,
          207.0520265751007,
          560.0866737761904,
          240.316897025101,
          341.4510576677517,
          305.28903164575826,
          148.98159698103288,
          231.9053054813785,
          490.84513120149927,
          105.65967396996226,
          547.4996797776968,
          750.1005948433926,
          722.0730381084188,
          374.4140609504205,
          420.7610522237027,
          560.4690901634997,
          464.16596372036474,
          444.9173399564786,
          240.60042381382056,
          419.9471522729401,
          358.34471593327703,
          127.77267535940541,
          220.01891437034433,
          250.39799805662295,
          381.150335779404,
          313.989421233315,
          462.7483105342485,
          623.3199913697489,
          383.7383216703485,
          748.4490615645911,
          447.74445203314764,
          377.26281675594606,
          258.23485137851173,
          533.9137142953363,
          350.5983623428324,
          364.93511586484345,
          159.78983302642004,
          355.7527818304484,
          515.1343091570066,
          527.3363561670353,
          587.1423789810177,
          656.3366261037265,
          2570.1052837948127,
          173.54916826397854,
          197.59393794806553,
          159.5936109170313,
          571.4208036169248,
          367.6249583988805,
          150.52610785319567,
          282.216556184624,
          379.95255997969974,
          448.59097246381504,
          290.84689981400584,
          185.67276957922675,
          778.6531167155983,
          203.01204547509147,
          119.0289501477749,
          298.4422160808827,
          717.0832217273428,
          542.4564995630233,
          577.2710957528683,
          345.0250028352421,
          287.6982569890091,
          372.1768668103019,
          537.9184320876323,
          366.9853618222592,
          486.5315031711481,
          470.35739159823737,
          244.65581438559565,
          211.55709886737347,
          221.8403014671578,
          205.55353145630988,
          532.2650715553815,
          472.4843363574075,
          360.68243098540563,
          159.66966527567868,
          390.80833509688404,
          704.6536453126137,
          416.18268853553224,
          357.86156773730437,
          726.1995879573591,
          470.35739159823737,
          430.5583049786454,
          275.09496236796474,
          389.9570706376597,
          365.49812350303506,
          297.79134632951497,
          123.82899370689728,
          555.1543914333461,
          499.8418128690614,
          116.22437322643064,
          318.85418001887774,
          303.0062572999565,
          741.2909214758679,
          381.55574467358474,
          244.0599288676586,
          174.7841916480454,
          416.0803960245275,
          106.54577122548363,
          35.80863645038851,
          371.94603268667345,
          416.0803960245275,
          656.063609174688,
          697.8013469279272,
          396.8115928367015,
          287.64270290093737,
          112.42193992647483,
          363.6784444359007,
          89.87864292997929,
          376.3215619044508,
          536.920394694654,
          377.26281675594606,
          268.5850964963885,
          607.6256477586462,
          105.65967396996226,
          197.59393794806553,
          611.996004732343,
          20.653644337754486,
          521.9738143384002,
          213.5246373875629,
          683.98578256769,
          344.2804046958339,
          778.6531167155983,
          540.6519230060554,
          486.1478123567601,
          467.84998464728835,
          240.84736839487556,
          587.6578892457767,
          102.8936472677245,
          534.9312406848385,
          387.4969038858827,
          430.42873499407904,
          340.9626340435926,
          652.1786049228732,
          204.4719947190853,
          166.56680018054362,
          5.363614430930425,
          487.5047300208717,
          379.0877774131426,
          328.0684932971687,
          75.71825568867692,
          294.34723325590846,
          495.8539306051803,
          428.52236056438426,
          381.150335779404,
          346.65654807685917,
          436.14437367896386,
          402.7876260606745,
          142.37082490081835,
          321.96461843503084,
          178.83205309242538,
          543.3589207218075,
          355.97532600243983,
          365.6230211269815,
          570.9378573054988,
          451.3498868426534,
          227.21626557229558,
          419.18698408045987,
          426.3988138549625,
          372.4087533690677,
          426.83408724216343,
          516.9885225585674,
          178.83205309242538,
          370.5824048594811,
          -22.85712141460613,
          275.3486816836806,
          287.4694452724029,
          587.1423789810177,
          73.275694951432,
          213.595305537754,
          459.28141796778965,
          600.6515902414117,
          539.387857894649,
          31.782176333578732,
          353.9460918700333,
          360.20881085692906,
          482.36885888679745,
          203.01204547509147,
          271.8187322725347,
          290.2128068734995,
          560.4690901634997,
          370.38501220392675,
          225.43980943739462,
          489.079525394531,
          -165.31661463377836,
          662.3187742395816,
          284.4006061114941,
          204.65421079708221,
          527.3992532844434,
          636.9686976182662,
          508.90060615274353,
          517.4613504023612,
          383.72639006213313,
          483.45467475583513,
          633.0575094282583,
          207.2179439626655,
          320.4107815894945,
          286.1193996741604,
          783.3884649279811,
          375.3995157350524,
          190.1720324562773,
          309.7236265408411,
          303.0062572999565,
          477.4290363495419,
          319.7032490649926,
          652.1786049228732,
          537.1996955194412,
          310.10209811224246,
          481.7926166471589,
          -22.85712141460613,
          526.9704338287132,
          341.82790935149444,
          654.7661017079663,
          95.84082139305269,
          457.1375991136207,
          321.5730379804339,
          263.3102645222581,
          -48.06983617065775,
          654.4304225219541,
          485.32755397811155,
          243.9632253566861,
          674.6082541629322,
          200.3361877837396,
          146.5013635124115,
          239.61643765431995,
          351.17687931074437,
          243.49608071678276,
          124.52791036221092,
          424.34401396472606,
          551.6446331133959,
          278.9116194701143,
          362.1860862127346,
          610.3663289819364,
          450.664746154909,
          410.941450256473,
          352.0279953924615,
          246.20118641551312,
          695.2767794689523,
          579.5907096113087,
          418.0290445257808,
          688.6461658413447,
          654.7661017079663,
          304.217505452491,
          380.4131288852816,
          404.42029749981316,
          346.24527682998394,
          611.66711076087,
          2625.94790901815,
          357.6757584576466,
          189.46295804044877,
          697.3692380675301,
          47.137799563699076,
          364.4721410438956,
          297.35464242874076,
          117.67206571163146,
          454.13878387586675,
          558.2915655108601,
          423.27457229663327,
          599.8099234981792,
          189.46295804044877,
          339.3289986995256,
          354.6770369108062,
          558.5636024565244,
          463.5370368451959,
          171.41262874028985,
          430.5583049786454,
          693.6254033065637,
          410.90228619363216,
          187.29325273907156,
          -152.37971465348403,
          381.39535750866276,
          122.60170467290195,
          287.07748050617397,
          506.45674307514696,
          414.21270805773065,
          376.1209212493652,
          333.6978632184272,
          381.55574467358474,
          482.6711955960216
         ],
         "yaxis": "y"
        },
        {
         "hovertemplate": "color=0<br>PC1=%{x}<br>PC2=%{y}<extra></extra>",
         "legendgroup": "0",
         "marker": {
          "color": "#00cc96",
          "symbol": "circle"
         },
         "mode": "markers",
         "name": "0",
         "showlegend": true,
         "type": "scattergl",
         "x": [
          -25608.791776629063,
          6040.491881841851,
          -18799.454242897948,
          -21904.547424812354,
          -46603.17095055398,
          -44751.4940804241,
          -34930.4422041614,
          -10406.47156320483,
          -18442.81303934888,
          -15211.495761291873,
          -33664.10333222082,
          -13895.272828999301,
          -41273.52302335414,
          -28535.904026835262,
          -31694.737628901836,
          -44751.97386789598,
          -44750.48499197077,
          -10529.412441605193,
          -16466.101677895225,
          -24317.446386667863,
          -26534.123525853676,
          -12011.999175274046,
          -25929.484422539073,
          -22492.94967469264,
          -25951.50276226105,
          -28694.7640215904,
          -9863.875452965854,
          -28628.33741718131,
          -22159.588793042996,
          -27660.980959709494,
          -13697.868949712409,
          -30336.449787085523,
          -19698.158442881282,
          -32744.04148902665,
          -21263.738173263937,
          -42704.47443522308,
          -16396.462746734844,
          -10369.893850087432,
          -28297.2161229538,
          -13710.47273804913,
          -16565.042462828755,
          -18079.500613316508,
          -29024.645506591292,
          -23537.170679184157,
          -1809.7683842544097,
          -36004.956057605166,
          -21778.05122506082,
          -24006.346867579006,
          -26983.68472274386,
          -27372.224853060525,
          -13384.220900158878,
          -20903.032132711218,
          -33363.94229181466,
          -22651.373901200674,
          -10805.367049115777,
          -64.8599139516205,
          -7052.80992663691,
          -21520.31716863839,
          -10243.397279942246,
          -17936.818727885053,
          -13667.524141453336,
          -30041.811316638432,
          -28593.81227264803,
          -44751.51102770026,
          -29450.646439912438,
          -21095.3527954728,
          -22317.94498447927,
          -25761.831232326756,
          -21356.89641480637,
          -36966.39551258827,
          -14540.31610683373,
          -30183.79819512751,
          -20467.51105576377,
          -27773.748149800944,
          -21624.201235671415,
          -19841.844528461956,
          -13894.056646927318,
          -35626.82336445338,
          -16868.798843230008,
          -9870.4245499461,
          -5880.280047656547,
          -12505.556319255951,
          -28278.09730522013,
          -25216.079217759758,
          -9583.336024392305,
          -39681.44917463088,
          14248.115055044938,
          -17835.667939650586,
          -37403.48145251751,
          -25000.143614486497,
          -22254.060775571576,
          -28182.971851690563,
          -18259.602389073185,
          -17078.172554239496,
          -30244.409862484874,
          -21580.42951995782,
          -10844.652420082399,
          -25065.62767300293,
          -19075.63706252268,
          -13613.893670519346,
          -23813.020989283224,
          -14540.31610683373,
          -20640.79684408712,
          -16572.79485516164,
          -22707.810518273433,
          -29668.750148550324,
          -21976.782841640797,
          -21433.671767736072,
          -18675.71896908774,
          -32268.29905092007,
          -16565.042462828755,
          -16114.073750091457,
          -42007.307422268044,
          -36908.08091833523,
          -28812.86117396575,
          -37737.13237779645,
          -21743.037279193657,
          -25041.5998423114,
          -21904.547424812354,
          -28637.994097241357,
          -5329.3998186660165,
          -32464.310518615664,
          -14855.66952929979,
          -22159.588793042996,
          -33762.230909666534,
          -41848.24537432234,
          -22240.20124236249,
          -20242.995120476757,
          -44751.96333228815,
          -23564.57015266634,
          -21976.782841640797,
          -32124.133146880573,
          -28959.958860315506,
          -9636.545631862036,
          -28227.47805297581,
          -16026.2974702231,
          -10046.01509344825,
          -19071.741423405834,
          -20376.517664123407,
          -14851.389175462,
          -13841.990399738615,
          -31736.30087631595,
          -13295.59225500085,
          -14496.648834754185,
          -20017.814218956206,
          -38208.23663323864,
          -5942.443574421547,
          -27971.89840820568,
          -17319.489282892777,
          -12588.380901804294,
          -26159.96609300777,
          -9560.108992281936,
          -26706.71207805785,
          -19376.16142729503,
          -23688.268863797035,
          -29309.725788881915,
          -26939.683955809127,
          -9539.943506523483,
          -27571.717114751988,
          -4406.787632163436,
          -30779.27402226569,
          -29833.02748755761,
          -36937.73674698073,
          -19216.40372983004,
          -13661.393009888954,
          -15297.322195011318,
          -12803.777285194026,
          -12572.526053395968,
          -19078.062173414033,
          -34794.01406347755,
          -28344.129567858545,
          -26030.660187197354,
          -21166.01677710296,
          -30362.70304653359,
          -21454.80025226548,
          -25373.37820842199,
          -33275.947871477154,
          -20622.976794978407,
          -15281.966368718424,
          -38628.91474039684,
          -23483.213426861395,
          -20037.114036617386,
          -23152.3581845251,
          -25761.831232326756,
          -32268.29905092007,
          -26289.496974314912,
          -33563.4506579339,
          -31190.857251974423,
          -23068.547750242196,
          -25504.63614128615,
          -16108.910323669848,
          -11210.663688688499,
          -39168.98602545711,
          -17432.791944143148,
          -17078.172554239496,
          -27003.312026523166,
          -19006.028872399016,
          -1983.0592010308208,
          -26403.81548856805,
          -33266.17195167184,
          -44751.330365794536,
          -34767.00731164439,
          -13553.93604753842,
          -35250.486140303256,
          -18559.558977231256,
          -11594.395417869748,
          -16733.117896537235,
          -20628.996591566054,
          -45414.390999593976,
          -31667.32661787612,
          -21789.056322791777,
          -20665.989409667112,
          -31828.83916512716,
          -35440.26119689249,
          -32924.34423848881,
          -25382.6437506279,
          -30895.01260685987,
          -26450.7069299729,
          -30191.055270174747,
          -29833.02748755761,
          -35724.68206947362,
          -27124.723933432906,
          -2757.6261140725537,
          -6369.190291708586,
          -18079.50061371827,
          -32834.353638770095,
          -37180.87976360578,
          -29026.415571214402,
          -44752.33409664167,
          -13568.652075761476,
          -2738.6605022022613,
          -32769.40361351197,
          -21710.33942007108,
          -30579.11374945707,
          -9859.919872534063,
          -12333.115210023716,
          -35134.858202639974,
          -27491.98867692071,
          -15630.247369003479,
          -1147.8932984347875,
          -20441.070236003423,
          -25387.63397222911,
          -15162.006537035342,
          -30407.500881665157,
          -6574.61751307792,
          -4369.067529370473,
          -6333.903759262251,
          -16612.711400023072,
          -12398.380751306728,
          -6149.778679068261,
          -26812.14459009181,
          -19363.890152997046,
          -37346.66491169705,
          -12486.165100775539,
          -24333.232816893666,
          -9489.146021672432,
          -11236.180033684075,
          -18784.119604812513,
          -17660.773017614465,
          -36536.24110526771,
          -47390.94416427275,
          -18793.91436834303,
          -27371.23687295468,
          -17432.791944143148,
          -29820.126808806748,
          -22082.464432046883,
          -19956.111201351152,
          -32072.256674751683,
          -17294.5088472335,
          -23814.760594663378,
          -34908.23637881952,
          -23607.384419548445,
          -37214.48072432353,
          -21199.65317002661,
          -24179.075777153525,
          -15130.088059204272,
          -44220.922215510014,
          -17528.50017053764,
          -17051.923510866178,
          -25155.210336315522,
          -29950.824157360355,
          -19363.890152997046,
          -25348.45476194858,
          -11243.961536725275,
          -15534.909872712225,
          -11778.940459763828,
          -8482.312567862966,
          -13065.216243740488,
          -24665.78817023071,
          -13740.74892373814,
          932.636613140168,
          -22232.253754972266,
          -36937.73674698073,
          -35984.12834568635,
          -18686.814263067638,
          -15987.541312543768,
          -29619.543733047078,
          -20648.970332087705,
          -3731.1025747603385,
          -35672.74075526675,
          -9564.501802139726,
          -2583.709957703124,
          -41273.52302335414,
          -15101.201314316124,
          -30972.095082166343,
          -30998.581495532475,
          -10093.528257268801,
          -25679.34998725464,
          -44752.26809807179,
          -37832.458447758356,
          -32124.133146880573,
          -28530.046528418217,
          -37196.355764514235,
          -25301.524621981873,
          -29927.65724442116,
          -36966.39551258827,
          -33902.664381670475,
          -43311.16230588732,
          -26027.345059090498,
          -12045.375357023255,
          -29736.05477422281,
          -14059.996002898964,
          -23828.121661558896,
          -14861.87277979211,
          -23564.57015266634,
          -26548.32072061827,
          -24565.628520301267,
          -50521.37420389907,
          -44750.46535950212,
          -31827.545548419657,
          -12901.537705860475,
          -32597.07305214027,
          -13444.80270610264,
          -28505.96664498086,
          -14889.13476942343,
          -25251.297300067945,
          -18270.23427038971,
          -36494.67266420314,
          -29450.646439912438,
          -9207.084251925899,
          -18213.118006064287,
          -44751.58514311021,
          -29106.558573721337,
          6803.8795361215825,
          -15021.476922580425,
          -14474.250654330672,
          -33860.46688717224,
          -27543.349940012424,
          -6752.402242937447,
          -45685.57668106868,
          -25010.141450575178,
          -16378.630586113757,
          -12591.848541007641,
          -33323.881117138735,
          -27888.078077979622,
          -19006.028872399016,
          -34026.95413969366,
          -14119.97827830622,
          -34997.09515168746,
          -14286.232703399159,
          -30898.726075127524,
          -31358.97011370531,
          -25348.45476194858,
          -7294.177830610947,
          -29571.393396315598,
          -13370.021462093635,
          -10599.19175610582,
          -22464.9154040919,
          -25495.630453998747,
          -17841.161539213343,
          -29619.543733047078,
          -33563.4506579339,
          -24090.70697628064,
          -17660.773017614465,
          -8989.32029744886,
          -25155.210336315522,
          -21092.929895300338,
          -21169.691547975097,
          -31763.280943210997,
          -12333.115210023716,
          -30608.772567904012,
          -6201.948257314091,
          -11952.935671313671,
          -35722.30313510124,
          -24183.083732925163,
          -17873.531129916624,
          -11233.688329552364,
          -32840.01176297277,
          -33146.74516722456,
          -16490.889636485135,
          -19303.70505701107,
          -21092.929895300338,
          -10235.094664618275,
          -31272.631566011096,
          -488.7756479243899,
          -19216.40372983004,
          -14468.559140286414,
          -25012.10478893184,
          -14559.016425120823,
          -14855.66952929979,
          -48749.79164520032,
          -28922.568077401927,
          -28918.662101342565,
          -42997.38838431032,
          -20327.208798290543,
          -9870.4245499461,
          -21865.051832246732,
          -21270.287727128365,
          -14973.260147138388,
          -20397.41236662119,
          -12333.115210023716,
          -27610.232598017305,
          -7934.840274025901,
          -25093.929074969088,
          -10235.094664618275,
          -7053.041021885489,
          -17319.489282892777,
          -17284.32025040767,
          -38528.68873579988,
          -16142.263736213265,
          -15593.826303329291,
          -994.8339300026619,
          -39859.39171493438,
          -18296.340556515344,
          -20903.032132711218,
          -23896.826074202345,
          4845.663486459774,
          -33460.14440178275,
          -32809.48206368243,
          -15954.992352588642,
          -29479.89117290154,
          -21695.951653980224,
          -27660.980959709494,
          -29806.138401441774,
          -16711.94514688772,
          -17336.722113691158,
          -18259.602389073185,
          -10783.932919107005,
          -14322.767714534526,
          -32060.26703810267,
          -24678.12244133732,
          -36391.38875329168,
          -2706.609075494114,
          -19027.504276318774,
          -28719.069821936984,
          -34084.99914642522,
          -27918.991629081687,
          -34031.16104964247,
          -10225.066470859427,
          -33895.344255019554,
          -42529.16170888289,
          -14079.499393047485,
          -33507.33219152829,
          -17051.923510866178,
          -34566.154744543,
          -13737.753924746938,
          -35599.779618287634,
          -28725.34260049681,
          -33563.4506579339,
          -9854.670918653494,
          -14955.721446205074,
          -23866.722030973728,
          -20396.886870378035,
          -36239.38342711301,
          -12491.51633510084,
          -38719.70779387075,
          -30299.07067538298,
          -15455.126408963446,
          -24006.346867579006,
          -26744.61945285579,
          -22492.94967469264,
          -23277.168151866903,
          -12820.798518374428,
          -32059.975673282996,
          -16180.036355591365,
          -14559.016425120823,
          -15982.89073665159,
          -30414.435943720167,
          -26961.861224309097,
          -29583.027013305957,
          -23018.287214295276,
          -4068.9211877514604,
          -19940.36583265945,
          -22162.179859788714,
          -27246.946780830804,
          -29974.882075137895,
          -31229.169634177477,
          -40804.994109144136,
          -17518.830628768967,
          -21710.22535523556,
          -28424.60850686944,
          -21859.78163498511,
          -21957.89772677493,
          162.06547202043967,
          -10169.444008352944,
          -21097.227453648928,
          -27372.224853060525,
          -30106.073929650283,
          -22436.587026567675,
          -19020.427540416007,
          -16555.499436756494,
          -20720.696545779574,
          -33323.881117138735,
          -16218.492636755283,
          -32072.256674751683,
          -29553.732866422033,
          -31195.009401388994,
          -22712.085632421065,
          -17272.60485964414,
          -26844.986653592077,
          -28491.54553027057,
          -17724.92932239374,
          -22777.916477137896,
          -13195.048030631799,
          -15475.255844496802,
          -20871.204096899433,
          -27681.840032476037,
          -26744.61945285579,
          -879.5380445174394,
          -28775.350849075618,
          -19603.723652486326,
          -28048.97120598832,
          -23835.890919317848,
          -29274.166854814754,
          -18977.62190682275,
          -13108.489996146114,
          -14973.260147138388,
          -15466.460500568117,
          -23667.64457347281,
          -8442.309863976574,
          -19490.96349529276,
          -44750.83914512126,
          -34604.34478395501,
          -12191.079360885004,
          -13576.410973634478,
          -23246.418582657676,
          -7200.909528371103,
          -9234.198281914856,
          -28774.87199385426,
          -13894.056646927318,
          -20493.858828214376,
          -17906.212492633433,
          -26961.861224309097,
          -24366.54307122124,
          -30130.217106767705,
          -24449.915102906973,
          -21427.472404908083,
          -29864.67154349159,
          -37456.89512051586,
          -38064.42615338291,
          -31828.83916512716,
          -24522.079156399577,
          -26437.235145605347,
          -14746.229298551338,
          -27079.356772117568,
          -18666.88982972816,
          -21263.738173263937,
          -36247.34972522464,
          -31667.32661787612,
          -32908.1639678337,
          -22523.52596789309,
          -35104.95650743189,
          -21695.951653980224,
          -20109.393251081343,
          10738.883969089831,
          -37000.38860945203,
          -20694.631869674573,
          -26187.589816372893,
          -25767.644633669857,
          -27030.742367339302,
          -8933.748982375366,
          -36067.18755080145,
          -33323.881117138735,
          -37335.12721237348,
          -46946.538546663236,
          -23828.121661558896,
          -29479.89117290154,
          -12148.521573830632,
          -44751.63165304855,
          -27820.55288133168,
          -41239.50565173047,
          -25439.526411672585,
          -17835.667939650586
         ],
         "xaxis": "x",
         "y": [
          192.91483889688084,
          360.32044189318873,
          152.7783338738527,
          239.7710141477461,
          -191.9016420773209,
          -209.9255818181924,
          -18.9444628986268,
          375.64011231290647,
          209.96682984711134,
          53.152332873990304,
          -15.644279904300241,
          298.88471518270524,
          -61.979231117959436,
          100.89726546320824,
          43.39188475165762,
          -148.78278906895153,
          -263.3440569860431,
          442.5656478625556,
          302.6927228970381,
          247.51161619171378,
          172.4931803469821,
          442.75686827872465,
          208.95743635624592,
          64.66771978217743,
          201.54517727056543,
          84.4438700511947,
          506.49198529490707,
          151.09265477068934,
          278.3769253920011,
          176.86103782535216,
          258.9209615779514,
          121.24743667669263,
          268.08608809929456,
          68.78921213526553,
          250.32413544315816,
          -149.7009137178577,
          377.26397144487936,
          198.3348127420571,
          85.91483289900658,
          426.9012895813559,
          124.19643951046588,
          311.1206694187803,
          42.37335178490981,
          208.27501896384865,
          523.4623771225166,
          8.51391063435494,
          238.01672070499131,
          251.14653615452053,
          126.60809037117802,
          89.30701289254047,
          353.3660750137389,
          297.24554085329225,
          24.92063806643127,
          243.99598476300932,
          -6.530023556400437,
          708.2497170547769,
          478.3030086890813,
          49.12756307015013,
          273.74912513047775,
          372.0238729916502,
          418.5435352256575,
          93.10805736227428,
          157.7508957325493,
          -163.90293906447127,
          127.34976795839351,
          248.1508660885846,
          272.6533643295603,
          -21.224883471189774,
          236.2317915063126,
          -40.642984902787376,
          379.9572604443858,
          83.57130095233578,
          282.8941691303836,
          77.69929986131994,
          227.81851003449208,
          276.9965324427769,
          310.7821673721359,
          -7.147388865411967,
          342.6228577427096,
          379.59130191936623,
          509.6666746379827,
          202.54401586604712,
          126.0449205246009,
          103.44067781837039,
          227.36038855062813,
          -64.41540983706984,
          508.76401459501875,
          339.5950553869049,
          -64.04896641203919,
          205.8505970531378,
          91.08191638846878,
          144.78128736816643,
          285.79959282244,
          300.7632707627474,
          104.21151109163078,
          213.76726628017937,
          368.206628660766,
          222.45466526146782,
          346.5020607037098,
          406.8549283656045,
          222.66486863891728,
          379.9572604443858,
          256.07261038238266,
          390.37437012516125,
          255.23290332526125,
          63.8957348515976,
          233.97653238388725,
          251.80422009796024,
          314.8363449973509,
          94.89335449601285,
          124.19643951046588,
          406.5777357460558,
          -121.13675440758095,
          -61.14796689668944,
          120.97604333633949,
          -111.24306020393641,
          -60.19313486648159,
          129.44857431364446,
          239.7710141477461,
          72.78291244255655,
          194.88950441133235,
          41.94168433056125,
          401.31924695899187,
          278.3769253920011,
          99.78702723179605,
          -83.66867669230754,
          244.41997872112134,
          177.33095567545655,
          -175.67875043070202,
          228.62228411572286,
          233.97653238388725,
          101.21119640308615,
          147.06013805802624,
          313.44712105625115,
          124.4023251747706,
          349.10811044228205,
          205.60652031581242,
          253.48107461730572,
          281.1105042438112,
          416.8258539069035,
          373.14760309370183,
          120.3888853710197,
          397.582893131869,
          373.44214588392697,
          -30.388755610254197,
          -8.756542516673424,
          197.65693173498482,
          -79.6809199644128,
          228.33435301776,
          206.03983736175184,
          171.6161771427717,
          121.53305698355584,
          -37.482145794136684,
          275.3816767346573,
          209.6302214321543,
          96.11940032516732,
          164.4195906217387,
          26.796587710730538,
          173.26383526844606,
          487.54240285663985,
          71.19289263696996,
          -25.532777126287318,
          -42.2662668634319,
          266.7621211084011,
          265.69777605726824,
          354.77293910188075,
          420.69847592175114,
          352.2028242790025,
          319.16931044136385,
          -2.4048178524379265,
          79.88556665290665,
          154.52070716641103,
          185.55471478318728,
          -115.64070304438984,
          232.4767989648607,
          -60.03635537785594,
          29.666209459953418,
          225.27795447092146,
          398.9073339873221,
          -70.54761451088774,
          31.693856805690977,
          262.457533134754,
          186.4902063399126,
          -21.224883471189774,
          94.89335449601285,
          113.76428526109164,
          2.599205821940887,
          76.52413748395817,
          224.71229805945114,
          249.6835579597681,
          207.8627827512194,
          37.67248135865125,
          -39.78380181858927,
          379.52414640202454,
          300.7632707627474,
          183.7994251208655,
          228.11305155121633,
          403.8528457631578,
          146.52384505213183,
          99.82352031069674,
          -230.10285434273055,
          29.656487519174465,
          344.3115364521703,
          27.34061053237353,
          335.51920519885135,
          370.18055419676153,
          331.4268423382851,
          217.86104157896446,
          -329.3205501977658,
          121.82321112197715,
          299.586901300894,
          276.14369421412783,
          32.77922142496992,
          -2.1822685029180806,
          41.14017822359252,
          174.38848809089603,
          69.64177726646855,
          162.55188054600205,
          90.77657403273301,
          -25.532777126287318,
          42.071152485504044,
          160.85317403775997,
          199.7951588197054,
          525.6292119990205,
          311.1206484427686,
          -0.28998585485475803,
          -46.63478310774444,
          139.30527917160438,
          -159.38836091523626,
          84.97511884449156,
          285.6143326475071,
          89.887078819703,
          205.2243976260079,
          124.38023130913363,
          351.74983725184904,
          294.00778835084884,
          -93.17093502427863,
          132.99515207225895,
          392.8166156720982,
          651.1430955964706,
          214.0065922520698,
          248.0947205593965,
          -40.81886476749743,
          67.86654194765724,
          564.5148882207076,
          559.0507923968629,
          378.1417548298159,
          195.2039261492803,
          357.6650742062232,
          478.39052467076465,
          154.34930381629377,
          319.6504375010762,
          -74.75552604776016,
          433.3252086183736,
          237.583361276479,
          384.4543062866153,
          407.73239286959193,
          218.71371027295848,
          337.3749316227487,
          -93.97276778250416,
          -146.0442289218908,
          294.2754712629239,
          151.54676130322764,
          379.52414640202454,
          78.6303541713989,
          -45.94317448901917,
          270.3160329686511,
          -40.3407344174545,
          320.9830337443365,
          182.530005945249,
          -27.068255804914518,
          170.71884411155241,
          -78.99838481826774,
          237.01580846927376,
          -99.42969070894894,
          362.4805311685858,
          -348.67880893713124,
          336.5761612725909,
          -140.17844013309252,
          184.43267944064127,
          92.71827542687433,
          319.6504375010762,
          210.84464188186857,
          461.3932410558179,
          -25.40177098735001,
          468.3143277088175,
          547.2474502761909,
          337.7856773958532,
          221.64288372729877,
          -36.97232168666593,
          396.5491727928978,
          253.29000421141365,
          -42.2662668634319,
          -10.377582400188455,
          298.0988007150926,
          -13.010003086195972,
          46.67541300045102,
          144.09018919712267,
          513.5140614460961,
          -0.06172409618136521,
          498.6448890393333,
          303.82957392847504,
          -61.979231117959436,
          323.42630219613176,
          116.10993912049976,
          75.72511077097522,
          366.55983365212353,
          167.66092522734522,
          -177.7457500935249,
          9.130802939240183,
          101.21119640308615,
          82.53672037772023,
          -75.25736826015948,
          244.1659396970872,
          124.06958264364856,
          -40.642984902787376,
          44.8245062094682,
          -223.07127770324593,
          202.56308582122998,
          379.00596321145787,
          62.52174000806871,
          390.971140805648,
          190.39094706212597,
          411.1938211227289,
          228.62228411572286,
          209.54774866186077,
          -188.35479128032622,
          -209.2158177954716,
          -261.9976478616875,
          126.30245547201874,
          459.73044460098015,
          -4.713511615555389,
          137.8626689763754,
          73.51833900468552,
          410.5191272418748,
          -195.30009572019128,
          300.32906015119033,
          15.002067472918787,
          127.34976795839351,
          470.11222886106475,
          319.1449105137104,
          -200.39772085474758,
          148.73823256583088,
          563.7826403090638,
          378.73100230897063,
          -112.7375665153346,
          51.34726995597365,
          159.01392103014996,
          382.1146470024834,
          -490.89590248661244,
          166.96886574770082,
          275.94184077627267,
          93.41478254337278,
          -20.924971273224777,
          150.50580313141757,
          228.11305155121633,
          19.49219613886833,
          330.477697573943,
          7.098411965071333,
          418.71164493331656,
          68.15617301554522,
          41.06022730318917,
          210.84464188186857,
          495.36542228313266,
          67.94573922864717,
          426.07696931945515,
          408.8512915080511,
          291.3984587761058,
          184.31560861740022,
          138.05828526062214,
          46.67541300045102,
          2.599205821940887,
          172.10721140123417,
          337.3749316227487,
          517.5145790806307,
          184.43267944064127,
          295.5707447775548,
          249.9423140639317,
          66.25622481522385,
          294.00778835084884,
          34.18348670500881,
          342.3751189534298,
          417.2585691498018,
          34.23506812670146,
          196.37107031716266,
          165.05217777570456,
          252.93713819972677,
          71.53866610675878,
          48.426738009822444,
          328.6721721607348,
          290.4988263367022,
          295.5707447775548,
          -33.40011916920597,
          47.434657749007386,
          429.0769050397705,
          266.7621211084011,
          320.5318454963967,
          112.41217340997865,
          359.1314208877581,
          401.31924695899187,
          -214.97650503814648,
          39.2803205135713,
          -165.49983812296261,
          -102.36552303391974,
          268.2937777300392,
          379.59130191936623,
          223.67556033859861,
          102.05749909153907,
          386.6744200850499,
          300.22618308827384,
          294.00778835084884,
          145.8137184539531,
          478.5656543209627,
          193.5255731194315,
          -33.40011916920597,
          436.55764420391887,
          228.33435301776,
          99.84114303620667,
          -97.02624245835526,
          25.542095847435295,
          401.1410004776358,
          -148.31072815443437,
          -114.4034906995916,
          57.024658017214,
          297.24554085329225,
          251.51142956999237,
          458.7450204416414,
          -10.37920836021894,
          57.73750547865502,
          334.75076450714863,
          135.83937311017885,
          265.14170682900163,
          176.86103782535216,
          121.01306963604634,
          338.6901912829107,
          130.56270126567898,
          285.79959282244,
          417.5469147571911,
          108.29507835996746,
          4.052471680095172,
          -26.925058053040598,
          -6.837691324755404,
          132.51851868385108,
          289.66474870256985,
          190.84963063962832,
          32.20454869330915,
          122.95702060266954,
          -16.801886904458883,
          452.36053111672476,
          30.36816124769039,
          -211.15091117591354,
          267.98759033997766,
          54.31223536670721,
          -140.17844013309252,
          32.0661203197709,
          83.75492537164838,
          1.6031918846633118,
          95.82742982328935,
          2.599205821940887,
          484.318256497502,
          -125.04399274136435,
          208.94113424090511,
          301.3511760811624,
          -17.07296917251617,
          277.4336057663188,
          -77.11350204832314,
          93.76838809821938,
          424.0046779040251,
          251.14653615452053,
          62.95593533195426,
          64.66771978217743,
          -91.92853192547393,
          341.5030197851161,
          43.37376774555266,
          285.19881252839593,
          359.1314208877581,
          347.1379419138983,
          105.97432581792927,
          167.06195303363617,
          -18.898341541319667,
          175.50366765220832,
          401.840002633292,
          127.47542986741473,
          222.18202633559997,
          184.9087809048609,
          127.29770518650386,
          28.990817039638177,
          -50.01629432287465,
          385.9538689382633,
          -184.73127285414324,
          156.7716873724476,
          288.2405156387105,
          296.1468582224092,
          173.50910433106262,
          63.38368864574929,
          215.26122261843472,
          89.30701289254047,
          119.53304025884376,
          252.5128543495966,
          285.4323196316569,
          330.4838832624958,
          270.47981000552767,
          -20.924971273224777,
          341.1735938320045,
          -40.3407344174545,
          135.70726539716875,
          95.79679869540993,
          240.556614953565,
          308.64484875242016,
          173.7441943814495,
          90.97618676322378,
          161.55193627673148,
          275.73504706708593,
          431.5502598570466,
          370.2121618493642,
          263.89402061213525,
          -20.46133208572921,
          62.95593533195426,
          277.50296128206537,
          21.675259334917524,
          -175.21287713926847,
          141.93704472482844,
          262.083083870425,
          15.200388864203138,
          364.4540644096336,
          250.0547210089303,
          386.6744200850499,
          337.72136565477393,
          202.88136334710686,
          451.5913600814983,
          313.0467475513806,
          -255.8479346704697,
          22.464334089845355,
          51.14816009179434,
          355.615939394012,
          240.13206200276383,
          519.5561666576368,
          306.75867709933584,
          25.154941048493054,
          310.7821673721359,
          249.6239510772031,
          326.5877273783475,
          167.06195303363617,
          219.1410656423637,
          73.14847069798412,
          46.723454770233644,
          253.18413568359864,
          134.60006549421777,
          -74.64642235991597,
          -86.25185034262067,
          32.77922142496992,
          199.8565018509568,
          155.40130340009034,
          260.04808942420027,
          188.41148093317676,
          357.18866401300477,
          250.32413544315816,
          -95.4563145228338,
          121.82321112197715,
          90.62675447751468,
          264.1583797088802,
          5.863065809859305,
          265.14170682900163,
          285.39299056650816,
          541.8652072457959,
          0.9509690726415237,
          202.1033175535701,
          165.31794849907538,
          154.4977273926215,
          180.97432287940092,
          405.2687974959081,
          -62.939224081861404,
          -20.924971273224777,
          -51.91639496567303,
          -199.7940594343752,
          190.39094706212597,
          135.83937311017885,
          -18.17530647440765,
          -183.081634826514,
          170.52183062092266,
          -163.6253214168828,
          173.16366193401856,
          339.5950553869049
         ],
         "yaxis": "y"
        },
        {
         "hovertemplate": "color=1<br>PC1=%{x}<br>PC2=%{y}<extra></extra>",
         "legendgroup": "1",
         "marker": {
          "color": "#ab63fa",
          "symbol": "circle"
         },
         "mode": "markers",
         "name": "1",
         "showlegend": true,
         "type": "scattergl",
         "x": [
          10266.999804430661,
          3386.3381796060576,
          24769.539206514542,
          6368.304386497254,
          13073.726998978595,
          -11559.873042794936,
          -5643.203132471377,
          15110.991553345368,
          -3292.640776192745,
          20315.445925616354,
          14123.245480207766,
          3705.021272595267,
          14404.03610492374,
          9580.082851826994,
          15431.217148607604,
          16846.162707732463,
          22624.104032499443,
          12786.033004496787,
          8384.550908500301,
          3800.9269410155352,
          -1863.493602962832,
          -4329.790306968968,
          -2101.713026407649,
          171.16026645474432,
          15904.106496760183,
          5040.8432053235665,
          -8272.58371611276,
          -15697.19438795645,
          3881.9125931505505,
          25126.411371302802,
          10744.777271044744,
          9083.64281708994,
          12865.331785067276,
          16108.403504517773,
          7566.856669240261,
          13494.74590849509,
          -5906.249107309617,
          8771.712335264929,
          18131.668200556316,
          21930.637543675977,
          14594.697550682218,
          9037.288407986305,
          17416.774297710417,
          16891.081550119237,
          11455.60607439557,
          12274.358951027501,
          -6233.0545075378295,
          17270.184146443346,
          25373.64583721919,
          11652.69249203433,
          -879.125062945512,
          -698.3244607060807,
          -15178.218208762579,
          10507.581985759933,
          27509.552596612626,
          8836.68745339353,
          22793.30789563841,
          12946.640691560164,
          23462.955340306336,
          11105.13619957549,
          17429.66901135976,
          14067.994444629829,
          11598.776246770187,
          -879.125062945512,
          -1344.6390586061336,
          3722.0674288582313,
          5672.062488816385,
          6576.050750984344,
          11850.489886559531,
          12547.310540338065,
          12091.176704568365,
          -11780.248293885372,
          14098.030420922509,
          2978.8704564592886,
          7041.922925376362,
          18868.050589664883,
          7768.02126309276,
          12830.770322057979,
          9939.624277067815,
          -770.485144969556,
          2557.048636623329,
          376.33969350731826,
          11578.589907712858,
          14194.051580350852,
          -8453.159409247754,
          11140.186967937207,
          31424.64147091057,
          18531.087470275153,
          3270.649157991114,
          -1811.819002534689,
          14236.41799238417,
          22831.148431331258,
          -2737.5911048018743,
          -9857.500123739976,
          15068.622262866722,
          22994.472775910283,
          15025.113933236738,
          -720.3883839123807,
          5716.691217195264,
          4556.973492426988,
          13749.71561572167,
          -13262.625484638122,
          8355.040230787146,
          1541.4612254867695,
          -2970.7183606843532,
          4696.793412926527,
          10261.420867698913,
          3593.1307453348227,
          9759.614549795666,
          -11123.607709443058,
          12865.331785067276,
          7847.647248312351,
          6066.836422902431,
          3368.6743548497343,
          7184.952304789383,
          26418.757906833223,
          15669.690918948563,
          12124.714281884784,
          1419.4544384280368,
          9003.301788363367,
          -3331.929359249384,
          -8126.025955422995,
          -3097.1250135895916,
          -4567.295578121006,
          5704.32003242803,
          8254.426548686775,
          19252.553741326006,
          14325.986318105055,
          -7262.7520084118305,
          -11559.873042794936,
          9544.985638416836,
          1613.315877432771,
          10562.822371882541,
          9218.399159872812,
          2204.67140317166,
          18747.556932514155,
          16856.52544362212,
          3927.7194445967807,
          10890.515955752933,
          21452.831071006036,
          11140.186967937207,
          10626.620264292582,
          -6342.829580261211,
          26469.20791040161,
          14635.690898580873,
          15207.951006141642,
          -2820.7672664314046,
          4005.8294394425116,
          7064.879060129413,
          6997.951586105119,
          376.33969350731826,
          29063.106468656424,
          15875.216844816907,
          14227.928471811829,
          -1637.4795434150813,
          -6307.829485074799,
          26652.0249809391,
          18790.404449709524,
          -9059.131070481873,
          14133.32739244248,
          3009.282262375931,
          6149.600584041995,
          6473.110658123122,
          22563.733513301122,
          6868.316834422523,
          1343.2462889633962,
          14123.245480207766,
          11871.063290516058,
          9985.726684787222,
          6276.946233623138,
          26893.251593921454,
          9805.970203002305,
          -9524.566781395506,
          -9677.954479868595,
          -8462.416848994983,
          -11470.133403102553,
          18174.429173972418,
          7922.256589425523,
          9622.680882947216,
          -2568.177415472627,
          7426.745775441797,
          507.8211196741334,
          -29737.166934692832,
          13440.004302803885,
          4843.110376108449,
          -3456.220029778436,
          4326.367539567536,
          4383.431232506308,
          3040.3905996842154,
          13073.726998978595,
          -5874.829921861659,
          3111.458128368525,
          5653.6657362000215,
          920.915872460577,
          10209.4281702908,
          -9410.648915882648,
          -1053.3714857273908,
          -3292.640776192745,
          3024.2183270636656,
          44.709474336958614,
          -27845.248378343407,
          12709.689161676717,
          15314.44763941997,
          2994.8825739242675,
          8310.32760048047,
          12591.74440146375,
          3822.0373747343547,
          5689.652335724568,
          15652.233271153566,
          7501.309309412572,
          1453.9097636936642,
          1984.3913353130824,
          349.97298305639777,
          2506.8414073113654,
          -8235.477836454169,
          6800.71815607181,
          866.4160471280917,
          11455.60607439557,
          13098.586572824719,
          -10224.627882108174,
          25774.43587145972,
          4091.1769479026702,
          -16117.694192682642,
          13324.80650964325,
          12271.215176701473,
          4072.923847817944,
          16079.545839648135,
          -4542.44790968504,
          8932.9223737383,
          -7714.221711573348,
          10610.45082720736,
          12958.803741234962,
          11953.781309255719,
          7680.263818297688,
          -5639.363092012478,
          1994.0240314209016,
          9571.73420007108,
          27557.50825225583,
          4534.599276717648,
          13212.908753717673,
          -5219.933330580109,
          18318.865250690793,
          -12697.898917051441,
          34129.50217671648,
          15140.026957732864,
          3881.9125931505505,
          2204.6710608472054,
          5492.275993507271,
          5275.510988299256,
          -6198.707937265293,
          2204.6710608472054,
          7344.077503913199,
          10461.489508822899,
          14473.158136430591,
          2135.426503427317,
          -4178.182364897012,
          2727.143382173098,
          9761.850087794215,
          11598.776246770187,
          17854.406759964575,
          5866.661316456521,
          -1279.4402000115613,
          -10037.203034081253,
          9308.312445017496,
          22795.577635353686,
          9040.535050054852,
          2478.357108734192,
          12476.449454150259,
          12865.945065552221,
          15192.149749259455,
          25535.104343446907,
          15875.216844816907,
          2906.5842397220663,
          10722.016870781816,
          1134.834546932513,
          3717.621176764581,
          11946.225938019705,
          4935.576331501177,
          14069.84625392856,
          -12481.320495424812,
          4841.478721245092,
          5567.49254150925,
          8651.069938112812,
          -2051.1602911957007,
          7632.460914646922,
          13446.830099218138,
          -5241.356122878748,
          20601.69717983693,
          -8986.29968855725,
          10610.45082720736,
          -2101.713026407649,
          9817.268445085258,
          6305.260564616488,
          783.0349715938387,
          7357.92232105306,
          -1637.4795434150813,
          4002.815657623621,
          -3347.3932969039174,
          5166.23582166316,
          11670.775028788901,
          11598.776246770187,
          -1213.0872770460057,
          13440.004302803885,
          -15386.1643385445,
          -7731.636290904867,
          14840.771168668893,
          4793.966791015999,
          17143.070351484017,
          5286.862924884351,
          11578.589907712858,
          611.7232596567192,
          17152.83900241935,
          -19519.133508914438,
          -13837.376398683065,
          12616.51419816055,
          5709.217075356495,
          -2767.391258800636,
          -1521.8122830967825,
          15188.187866247274,
          12909.203538818978,
          4835.088923192207,
          10562.822371882541,
          18134.464641307506,
          8338.83509211764,
          5619.19076782527,
          1137.9986643144146,
          19474.126778956608,
          1001.5648133082952,
          1864.0246151847014,
          -2560.719518454576,
          4888.228040376704,
          1736.6557307932624,
          3517.46372833539,
          6352.094771920337,
          4809.351746305785,
          17040.25781011514,
          19730.781159005794,
          6997.590606562967,
          22637.653171754842,
          -259.0893741669506,
          13784.480779253663,
          15207.951006141642,
          17937.389659664044,
          -2568.177415472627,
          -4292.497563529663,
          11738.51878879473,
          3270.5555340487954,
          23041.702061870194,
          8231.127559280938,
          -3818.1048219762474,
          1594.8714686183841,
          18404.928673366026,
          19616.104685373906,
          8179.659803797422,
          738.1507462410974,
          -1584.011349770639,
          -5125.3103585188865,
          7576.3859895607375,
          -2243.8143465461267,
          4137.751469319311,
          10425.941915128858,
          -1911.639010557328,
          -1520.4258892951286,
          12649.383199875881,
          11001.295972474929,
          16856.52544362212,
          25535.104343446907,
          4291.719042808279,
          6109.764703345726,
          -3154.4121190985816,
          8824.425564267462,
          2766.6772011724024,
          6422.584299826907,
          7991.460536626484,
          3181.846894214443,
          22637.653171754842,
          17814.450606770784,
          26893.251593921454,
          5843.162248480513,
          14594.697550682218,
          17655.521565673378,
          11105.13619957549,
          -7262.7520084118305,
          -680.5133406245969,
          7228.81864549648,
          19876.961632569928,
          14888.837166707563,
          18989.1330039148,
          -3154.592882099395,
          8602.901249633427,
          11162.37711794463,
          -15178.218208762579,
          1736.6557307932624,
          -45100.82787798466,
          -5477.0911652355,
          6336.6942078909315,
          -1861.207430740967,
          2453.2514899220673,
          -4510.355806486179,
          10722.016870781816,
          5107.969356695285,
          5454.840259293625,
          22054.44810271707,
          1757.1912891201916,
          16820.525808129485,
          9571.73420007108,
          7961.000181640705,
          7953.871964066003,
          -19190.26951920887,
          17461.789583650527,
          10530.481580623455,
          24284.52995821957,
          9426.115430999924,
          61467.814267086535,
          7041.922925376362,
          8252.009713127894,
          44.709474336958614,
          4854.417053006247,
          2978.8704564592886,
          10447.783698444557,
          15217.710458389896,
          2746.811388654125,
          2113.3904036127897,
          4689.557367752576,
          -5253.525844551321,
          12228.81882199813,
          3447.133537030105,
          -11454.920173139266,
          -47817.874423273584,
          949.7859778118112,
          4308.209790890611,
          -10610.766038071173,
          13568.331477555366,
          24788.954449373883,
          19086.513019055987,
          -2328.6671914760113,
          15874.79622299895,
          14980.30680688907,
          23089.280660491295,
          8440.58653004014,
          31036.522839309575,
          -15098.465107204021,
          3551.7126741251436,
          17937.389659664044,
          7224.338249318561,
          15207.951006141642,
          25383.614071999327,
          2342.044257992037,
          -599.8324158242134,
          4556.973492426988,
          -2328.6671914760113,
          15669.690918948563,
          20713.305132890488,
          6026.408495670848,
          -7283.290304234149,
          -6513.734827279363,
          14236.100466744057,
          17565.104354492705,
          983.4114293060757,
          9037.288407986305,
          12986.410496423354,
          13088.818232603957,
          6237.451377834109,
          8671.52000676225,
          -4930.6092062728185,
          17012.897238681995,
          19726.879164674454,
          12964.433512568266,
          665.1479446997668,
          -7921.166683901207,
          15474.693131334976,
          23989.175482585495,
          21571.95600033433,
          3343.8690959948503,
          -1748.387476295142,
          5484.716665329509,
          -10478.084565861656,
          5773.872537676966,
          5396.485959304011,
          6305.260564616488,
          11529.297515059734,
          5715.73819527159,
          -7432.883432857491,
          8989.360016219178,
          4748.0198918585875,
          16999.87127340621
         ],
         "xaxis": "x",
         "y": [
          24.317777975693744,
          83.39772171316405,
          -956.7281577420339,
          -444.10826451361953,
          296.3876323313632,
          -37.36957021706092,
          241.6420962998209,
          -136.63467917276526,
          -401.78853930081704,
          -528.679780320662,
          257.90168605364653,
          140.61506046314028,
          181.95084343214089,
          -167.2045541665232,
          206.4344855059242,
          305.15531745672433,
          -733.5157532423723,
          -7.824478972407326,
          9.378154616106134,
          -116.90969541271687,
          238.9371491910711,
          -157.1302577264508,
          220.51383023744575,
          -297.2461317103395,
          -1263.1494801848187,
          65.46949402036269,
          -141.61616996665967,
          -153.4800427665069,
          24.13522231498686,
          380.5619633710116,
          431.77298073319554,
          62.0322866686229,
          -338.6369602376061,
          -53.1800024229008,
          -243.31739296308874,
          411.05218234721565,
          80.25249830065462,
          -453.51394555137995,
          -1116.4300033207437,
          -515.5209178165502,
          -236.72149277921696,
          159.17631599758377,
          17.863125903538037,
          379.3378600096611,
          -411.59236500331764,
          -1256.2793384364988,
          -95.69385667212134,
          -388.58763382039734,
          314.58825250703916,
          -636.3768854175606,
          6.324164709903597,
          -682.5997327612769,
          -100.49624684678857,
          -437.9212816691922,
          481.07600621406465,
          -503.4834661951078,
          -552.550003914906,
          -881.9157384220687,
          -260.8443665673783,
          -505.52211155810056,
          -8.036658611705992,
          2.6075970431989544,
          -184.55064403138664,
          6.324164709903597,
          -272.93207868671243,
          -1015.9113372978541,
          -332.4092229575221,
          -60.524482811607925,
          222.44503116053212,
          114.22825482362828,
          -628.4781686307257,
          -295.6656406326939,
          -503.2729626229901,
          -785.5168733356552,
          205.50329455601036,
          65.27599479262929,
          -791.0620372687513,
          -156.22913374320822,
          114.62612200563773,
          91.31948756142398,
          -87.92938029480634,
          -551.8334706928955,
          -785.701214368817,
          -704.1968861011403,
          -24.214535305881924,
          -280.47651905380707,
          -158.47521242640437,
          113.54509008486933,
          196.13937982229643,
          31.04151010576408,
          -906.2888228913444,
          -153.74417691320556,
          -302.2182786642646,
          -261.13505274294914,
          -249.71433834726886,
          -72.75790502344206,
          139.39313504516906,
          104.1529848441636,
          -217.17141442993852,
          -424.3782114839507,
          -224.95579552216913,
          23.23172727346728,
          -190.44604333018336,
          106.19865631744501,
          -478.52640100596875,
          -388.56488072863385,
          -226.72934009029535,
          143.00913188880023,
          220.3671942023325,
          -114.64206620107907,
          -338.6369602376061,
          -40.35088932303859,
          -306.80366804150947,
          -65.7597012370716,
          48.451208621997274,
          -1078.610344346479,
          -138.20968521095364,
          -854.9889999068782,
          -760.5898206887249,
          26.187059113379224,
          227.42229835530824,
          61.52900478495356,
          190.25956475741623,
          54.51747538667326,
          207.70330872797226,
          211.21694910900527,
          127.11607302683431,
          -346.7192336907335,
          144.49257657777318,
          -37.36957021706092,
          192.3526007432785,
          169.31160081226363,
          -110.3886627211588,
          126.69564080794217,
          229.5220128786628,
          -1135.9966067523978,
          -913.2715932757724,
          341.37627044994633,
          -896.4776304366892,
          -283.2721757009321,
          -280.47651905380707,
          -745.4364420684593,
          12.492456616977734,
          -79.18456828250692,
          301.7227180624587,
          -453.32444384845286,
          176.5251927201718,
          -3.6668278532722014,
          -359.0490526372848,
          170.70204923565763,
          -551.8334706928955,
          -338.29032001115155,
          -92.61724922597526,
          157.70306880478404,
          6.945328528947201,
          -118.69533360230203,
          349.9692599519786,
          -654.7890477643339,
          -274.24245171163244,
          -172.0080209477979,
          -365.6125415632565,
          112.60550562242905,
          -498.7553161855991,
          -90.74511001193423,
          -196.88620218146764,
          102.32929621557511,
          257.90168605364653,
          -479.2231864474081,
          -647.4136638031997,
          -608.6579036801601,
          577.3107503311793,
          335.90704233566845,
          -245.6967866161741,
          -391.7138772316802,
          -142.96203476657814,
          12.22304999960686,
          163.42728240849925,
          -416.76741100476977,
          214.5969860068677,
          81.17394021373858,
          -380.65092760107416,
          -282.27432138933165,
          -451.5338402774563,
          15.228562527186648,
          105.61949401588217,
          -176.48565917589258,
          97.97240825133599,
          -84.21546739249743,
          -198.79058183776814,
          296.3876323313632,
          46.85728162296173,
          -81.27971169821043,
          319.22653850831875,
          210.5017982163107,
          -244.44279923334133,
          -179.71519926186951,
          41.6712708319263,
          -401.78853930081704,
          -630.0227950822479,
          -789.8786020939897,
          -335.3073005330735,
          -312.4902513308671,
          -1257.528146999551,
          -138.8169101034471,
          -123.90293565851135,
          -313.64146242615163,
          -98.0189100732782,
          84.00815031707549,
          -247.8935295397719,
          338.7982227472088,
          -80.14269598092723,
          290.7324975350429,
          11.606409354754124,
          -20.302110870116923,
          -192.17397690118247,
          292.23088976751893,
          -570.403175712147,
          -411.59236500331764,
          450.4515170903567,
          -221.2256282699901,
          550.1975406171011,
          -52.4435428148496,
          -137.79496202923772,
          -65.76374787370663,
          -696.8975166722082,
          24.480826295597087,
          -471.2071073037233,
          -146.3680601432688,
          96.53249171750402,
          -298.9405783360817,
          -644.8777994269784,
          -430.05492745678214,
          -1289.1065950036916,
          -93.87403064582675,
          56.29393796909578,
          -453.38144998082237,
          415.20984187950006,
          188.3232395148624,
          -355.2395840408936,
          289.0193534479043,
          -177.14820237424038,
          172.44456644339567,
          4.652005686877302,
          -731.4346297573752,
          -237.99759623923654,
          24.13522231498686,
          -121.33061579946587,
          295.01815677162995,
          -486.7877535129018,
          -35.96328306320738,
          -121.33061579946587,
          168.87586229733492,
          149.8465684186495,
          444.4401979103654,
          188.0486598755639,
          -15.281994289210246,
          -850.4499332513823,
          -415.2463278866413,
          -184.55064403138664,
          -440.1379445665455,
          -6.72955083665618,
          -189.9973318493409,
          68.07603766616933,
          268.39006117251506,
          -398.1707163501461,
          -122.31951369466144,
          253.66954966800574,
          66.0286548545985,
          -249.49778963376752,
          -208.01294106467802,
          -670.9373774314821,
          -92.61724922597526,
          206.7560167850043,
          202.00266082553156,
          -247.1568145434328,
          -427.3286873183993,
          -42.30950197308313,
          31.540900537647637,
          -668.1436404267629,
          -48.24763299267636,
          127.72917427654991,
          -160.83078029189895,
          -164.2193513507579,
          174.53351933348026,
          -569.0240895096681,
          194.14099764212907,
          127.9806608289358,
          -972.518888183287,
          -2.631434579218983,
          -644.8777994269784,
          220.51383023744575,
          -107.2580615529266,
          99.4851940705182,
          206.23295514218464,
          -171.75908931594554,
          6.945328528947201,
          -422.0210629498211,
          160.4430946548526,
          387.0612848666853,
          -65.58605402840067,
          -184.55064403138664,
          228.02878534889038,
          15.228562527186648,
          -25.481758931614735,
          -356.7577272335854,
          103.10404407526633,
          209.19089117161113,
          55.14669395952127,
          202.82847044794292,
          -785.701214368817,
          -409.0929889192223,
          231.4882166923574,
          -268.9837718372162,
          -148.38988702354533,
          243.77678903096378,
          87.05626120598947,
          -238.000621448173,
          -63.199942415893524,
          -765.9290764189144,
          -353.1397255237324,
          -513.235947340939,
          -110.3886627211588,
          -0.7353171790341552,
          24.67345515040981,
          89.34664479276589,
          -650.2574110843763,
          -683.4449004768975,
          214.36459049599986,
          -196.97790101537524,
          -1134.6205685872287,
          71.5333604673988,
          -367.6454665091407,
          -314.4309567371501,
          -98.99211451290121,
          -1106.8001586174137,
          -60.31689417081006,
          -358.91858682471343,
          -472.94681676398176,
          -15.446258777731149,
          -327.21377792502955,
          177.67786491595155,
          -453.32444384845286,
          -139.92717420071273,
          81.17394021373858,
          111.77317191346494,
          -669.720334945065,
          -54.39394378681881,
          -131.70837527386254,
          250.80267412312418,
          81.29525945102691,
          53.498767112381124,
          -614.7612136872463,
          -282.0369077220658,
          364.24775139775386,
          -704.9871034511851,
          3.1124161654306737,
          -672.1799847428315,
          -97.13881021240286,
          -108.951326637196,
          67.59889430300679,
          -61.34758917869418,
          -100.78765561511868,
          95.26472394742709,
          -100.29274830656449,
          -43.29326520311053,
          -913.2715932757724,
          -670.9373774314821,
          -242.93376045484393,
          -341.38286988658444,
          -190.40450470923847,
          -357.0453573126822,
          -64.6282322687864,
          -734.0063232896699,
          -395.7237130987769,
          -271.70444384778267,
          -15.446258777731149,
          -818.4429535448793,
          577.3107503311793,
          -220.24732941826431,
          -236.72149277921696,
          67.43295697667769,
          -505.52211155810056,
          144.49257657777318,
          89.40589725040303,
          343.4841244738593,
          -209.9015833404445,
          -146.50297284256308,
          -55.59355045418494,
          1.7096047524207172,
          -557.2618950279366,
          -179.8243621981158,
          -100.49624684678857,
          -367.6454665091407,
          -526.2322869594651,
          -795.2314646920103,
          -40.32097904670482,
          33.24478880577664,
          -408.28586008684334,
          269.4936503123397,
          202.00266082553156,
          -1182.3026732352414,
          217.58524369517653,
          -450.7512054310564,
          73.0544729077762,
          -140.84805798110207,
          415.20984187950006,
          18.616095312382548,
          -16.718314826484995,
          -518.523525521108,
          -239.8752919247427,
          -224.1182353254036,
          243.78309330676916,
          -20.45581732390551,
          1620.2044585726787,
          205.50329455601036,
          -367.2472397518334,
          -789.8786020939897,
          296.2015619546374,
          -785.5168733356552,
          36.53488237200976,
          527.8023694062108,
          228.4492170052671,
          -274.56345074917675,
          168.14132521944887,
          152.06882120358074,
          13.060427464354346,
          -443.5061494178488,
          -29.791468399607083,
          -500.6574238979197,
          200.16629321835666,
          208.13685147882472,
          -40.162712269212214,
          54.73386729957145,
          -254.28901905579445,
          -479.55367581532636,
          -411.88841811098433,
          -145.95640200707035,
          23.365999304022004,
          -169.38486758058764,
          140.68778585223916,
          -304.0241691241606,
          -106.4244598353113,
          141.9684051375026,
          -139.92717420071273,
          -481.25705949318535,
          -453.32444384845286,
          -933.8544321220911,
          108.97388297600334,
          152.507699359493,
          -424.3782114839507,
          -411.88841811098433,
          -138.20968521095364,
          517.2400989771112,
          130.72537174381978,
          -690.8593831269219,
          77.42490993606334,
          -260.9729929264126,
          -224.1889863696484,
          -59.12156286305477,
          159.17631599758377,
          -659.1998116907354,
          -38.18751663499844,
          -72.15676037408001,
          -1179.5800423313053,
          137.39448190090073,
          322.54425332390974,
          -306.22785903158,
          40.3089496196041,
          68.5655389188277,
          -159.5926430295866,
          -198.40464654700133,
          109.05788690918767,
          -712.7860844210303,
          133.73374730458195,
          90.15296608347224,
          -19.796003263058612,
          -123.72686482931772,
          273.3886796547375,
          -37.78989947809324,
          99.4851940705182,
          109.8881438031431,
          252.9485307357018,
          -785.4615068922157,
          -656.8287777250302,
          -715.059101255271,
          64.00033533034225
         ],
         "yaxis": "y"
        },
        {
         "hovertemplate": "color=5<br>PC1=%{x}<br>PC2=%{y}<extra></extra>",
         "legendgroup": "5",
         "marker": {
          "color": "#FFA15A",
          "symbol": "circle"
         },
         "mode": "markers",
         "name": "5",
         "showlegend": true,
         "type": "scattergl",
         "x": [
          30563.97469699895,
          32388.483879180934,
          30160.06350003473,
          23544.104700811284,
          27355.88118048433,
          33787.04788904731,
          38534.4141138908,
          49725.601609157595,
          17140.031909443343,
          31599.74892708367,
          27835.95249756505,
          49917.76755164295,
          31560.715987837917,
          29743.85897419219,
          27906.931592565357,
          50444.7278916851,
          30271.58499173961,
          25218.26786582132,
          23459.651913415677,
          30773.930246078224,
          31305.12602443389,
          19719.048570784325,
          38069.90863710316,
          27900.01800244018,
          38828.90992154791,
          30350.472061866727,
          40807.32700143508,
          40680.18633865777,
          23195.548680878208,
          32637.62620168218,
          23036.42179072114,
          36895.58558355035,
          27960.991180045672,
          18279.037751283962,
          24739.79360076991,
          31947.470369302395,
          27679.85506018292,
          35549.06026165904,
          9762.582435836954,
          27575.936373523666,
          39939.9813077777,
          20055.13508871135,
          25416.77202982914,
          53237.89211681433,
          25610.319297863538,
          38017.18459647202,
          19719.048570784325,
          35062.54265698653,
          37641.65178632425,
          37460.72210986825,
          19798.941967422874,
          31612.4373287993,
          28724.655838927367,
          29767.008774773232,
          -4033.848508298246,
          24187.255800686245,
          35549.06026165904,
          41173.8818998925,
          28982.58143326774,
          33467.45657123825,
          17899.473822727166,
          28582.507877164815,
          43303.91876989179,
          31947.470369302395,
          29783.989483107554,
          42166.269851178346,
          -667.9151065751537,
          40726.42204892073,
          30352.85363147724,
          28526.68550651239,
          23549.20227220265,
          33457.3862880059,
          42944.150312914695,
          31612.4373287993,
          25350.426095523402,
          18688.926063401348,
          22304.251776422407,
          27355.88118048433,
          18688.926063401348,
          34933.884113527376,
          32204.4020932418,
          33621.05697400013,
          31602.655731427734,
          19590.864244061304,
          20683.65884071452,
          30918.706815551035,
          38425.55476382718,
          15139.925426347741,
          32388.483879180934,
          22698.917421985443,
          32676.223665487963,
          17739.837042114097,
          24436.048046387717,
          38459.71332036205,
          31602.655731427734,
          26466.529730529688,
          -3115.8159786698316,
          30935.15635050515,
          26339.962249187636,
          42166.269851178346,
          28820.019520401594,
          12934.232312723258,
          25140.631459836866,
          35847.86289147715,
          16879.615045081508,
          40118.64348929454,
          27906.931592565357,
          40290.095814635984,
          41574.275307815675,
          31612.4373287993,
          42625.01576075825,
          24776.247460383882,
          35467.29748959504,
          10965.193742563553,
          21775.721381846448,
          30563.97469699895,
          38425.55476382718,
          29349.637599468468,
          11917.434419829224,
          19841.769877790175,
          27922.16015101811,
          34330.53458838497,
          31293.61862927662,
          25289.234866903153,
          28166.14742347735,
          40268.82246898616,
          38048.230352106235,
          30342.254155304418,
          30191.54865798486,
          25197.10236739319,
          28144.677594728946,
          29886.40957404851,
          23480.12095809934,
          32708.048217470445,
          34581.4716159686,
          31020.536957918783,
          16879.615045081508,
          30108.269919708964,
          36197.56489255823,
          38703.336498735895,
          25644.967990996265,
          39019.80100247995,
          25372.016619224527,
          21126.182618536954,
          44608.21732993306,
          19446.71421387077,
          33502.97251997099,
          42421.13914249577,
          39494.2995279605,
          42241.759763341324,
          44296.337507860146,
          44650.13044090417,
          13071.922250554853,
          27003.237688392426,
          29709.546720813836,
          23834.972423353855,
          25891.993500135304,
          30110.181782049603,
          32676.223665487963,
          30108.78457235529,
          13247.949029133259,
          26263.666000297984,
          38928.0185399414,
          37763.27219601723,
          13470.447865481836,
          26953.087239628054,
          31885.08623196843,
          23544.104700811284
         ],
         "xaxis": "x",
         "y": [
          -367.59566860389845,
          -619.9813220886149,
          -999.9231888032062,
          -548.7815400070035,
          -236.4530452460447,
          426.5711619625697,
          -491.449599520849,
          277.7545566981311,
          -693.3141496947279,
          -282.81020252727546,
          -580.0994618606275,
          151.24453251017556,
          -670.408924732527,
          -623.9400480516744,
          -852.2589888264456,
          476.34497519335866,
          -909.3781315242303,
          -199.86706933313184,
          -557.9905618006118,
          -703.0175108087149,
          -785.4791598650601,
          -599.6797975317688,
          -527.3574596924984,
          -444.89808851478597,
          -267.129972261416,
          -483.8463391199223,
          -1117.6723293924852,
          -502.5400167990591,
          -292.1756531606161,
          -792.4932143012419,
          -1029.218345867429,
          -867.9084847622254,
          -1014.1212986133045,
          -1141.1604012216917,
          -14.469376697550349,
          -1107.4139417975807,
          -755.9985688275206,
          -1063.939581555531,
          -694.0481654654324,
          -1026.743055568337,
          -935.5582349402451,
          -32.93128125428377,
          -1494.5300150936814,
          -303.56763937007986,
          -404.1854821384684,
          -571.1817900729386,
          -599.6797975317688,
          49.751362807506105,
          445.65448852975186,
          -416.77308453951247,
          -921.4647267682224,
          -564.2471399576536,
          -805.685630767717,
          408.4510001481508,
          -1211.524331454398,
          -978.2446532088139,
          -1063.939581555531,
          -571.8101824224557,
          -1019.3780472541719,
          46.87485295719668,
          -1119.3947608221795,
          -675.0443417180375,
          -792.6686765241159,
          -1107.4139417975807,
          -42.42941502396588,
          -1201.3190133557512,
          -945.3155479173939,
          -600.2807091581238,
          -1062.6171269383515,
          -325.60564639871455,
          -1783.7341496164759,
          -845.847097744884,
          -811.5088724021169,
          -564.2471399576536,
          -1402.5126524918592,
          -450.39309321475844,
          -493.0103253563119,
          -236.4530452460447,
          -450.39309321475844,
          -251.96998683200565,
          726.3707627083062,
          -946.1602734095958,
          -818.0752665222528,
          -867.0411066909119,
          -1289.2858949243437,
          -857.3135295650308,
          -1474.6722286210218,
          -895.3235735642107,
          -619.9813220886149,
          -1301.0300375095912,
          -635.0735558856403,
          -802.7965126492867,
          -1365.4924453174565,
          -720.2138020778533,
          -818.0752665222528,
          -1213.9216759267083,
          -787.0475845617905,
          -1399.508254541388,
          -688.8477419707449,
          -1201.3190133557512,
          -593.2758627055599,
          -558.0340435671278,
          -62.5629850100923,
          413.3079753987882,
          -829.5695653774596,
          -780.0741120511225,
          -852.2589888264456,
          145.2338102680289,
          -1284.5217496688585,
          -564.2471399576536,
          313.16749326152353,
          -1190.1534708148931,
          -1570.8478568157134,
          -233.0692405814266,
          -784.5966890258867,
          -367.59566860389845,
          -1474.6722286210218,
          -940.0512367699802,
          -1243.5532315611856,
          -1014.9465035341182,
          -1287.786460754647,
          410.0959338348494,
          -1212.9361482544891,
          -653.3142308245191,
          -557.0739068419897,
          -967.9195149910978,
          -814.5147154807323,
          -680.3739700604766,
          -312.26818474271033,
          -142.76402359749815,
          -1486.2301771813611,
          -348.4134071319572,
          -1174.5303171454166,
          198.3430498847449,
          681.9733538992522,
          -312.31666783963476,
          -829.5695653774596,
          -1264.507579175883,
          -958.4173390901296,
          -565.6331037638392,
          -994.9448742480256,
          -667.9424575698553,
          -915.9046301837061,
          -732.618600920419,
          -236.62043237327643,
          -1141.7673245306732,
          -334.94993988205977,
          -982.8638447401271,
          -1211.8473747390415,
          -501.26428113428534,
          620.7579919266208,
          -721.9976341557915,
          -477.42580171793134,
          -121.5461404439889,
          -1276.5677939962918,
          -593.9257629467515,
          -356.3893101059641,
          -1097.8548241358985,
          -635.0735558856403,
          -989.7335142408439,
          -276.44213097157893,
          -398.18872572085684,
          202.7060263201089,
          -202.50922950398981,
          -524.829074468297,
          -1185.6159689049512,
          -477.2308209333276,
          -548.7815400070035
         ],
         "yaxis": "y"
        },
        {
         "hovertemplate": "color=4<br>PC1=%{x}<br>PC2=%{y}<extra></extra>",
         "legendgroup": "4",
         "marker": {
          "color": "#19d3f3",
          "symbol": "circle"
         },
         "mode": "markers",
         "name": "4",
         "showlegend": true,
         "type": "scattergl",
         "x": [
          -3818.1047488862932,
          -3818.1047488862932
         ],
         "xaxis": "x",
         "y": [
          81.29412507538109,
          81.29412507538109
         ],
         "yaxis": "y"
        }
       ],
       "layout": {
        "legend": {
         "title": {
          "text": "color"
         },
         "tracegroupgap": 0
        },
        "template": {
         "data": {
          "bar": [
           {
            "error_x": {
             "color": "#2a3f5f"
            },
            "error_y": {
             "color": "#2a3f5f"
            },
            "marker": {
             "line": {
              "color": "#E5ECF6",
              "width": 0.5
             },
             "pattern": {
              "fillmode": "overlay",
              "size": 10,
              "solidity": 0.2
             }
            },
            "type": "bar"
           }
          ],
          "barpolar": [
           {
            "marker": {
             "line": {
              "color": "#E5ECF6",
              "width": 0.5
             },
             "pattern": {
              "fillmode": "overlay",
              "size": 10,
              "solidity": 0.2
             }
            },
            "type": "barpolar"
           }
          ],
          "carpet": [
           {
            "aaxis": {
             "endlinecolor": "#2a3f5f",
             "gridcolor": "white",
             "linecolor": "white",
             "minorgridcolor": "white",
             "startlinecolor": "#2a3f5f"
            },
            "baxis": {
             "endlinecolor": "#2a3f5f",
             "gridcolor": "white",
             "linecolor": "white",
             "minorgridcolor": "white",
             "startlinecolor": "#2a3f5f"
            },
            "type": "carpet"
           }
          ],
          "choropleth": [
           {
            "colorbar": {
             "outlinewidth": 0,
             "ticks": ""
            },
            "type": "choropleth"
           }
          ],
          "contour": [
           {
            "colorbar": {
             "outlinewidth": 0,
             "ticks": ""
            },
            "colorscale": [
             [
              0,
              "#0d0887"
             ],
             [
              0.1111111111111111,
              "#46039f"
             ],
             [
              0.2222222222222222,
              "#7201a8"
             ],
             [
              0.3333333333333333,
              "#9c179e"
             ],
             [
              0.4444444444444444,
              "#bd3786"
             ],
             [
              0.5555555555555556,
              "#d8576b"
             ],
             [
              0.6666666666666666,
              "#ed7953"
             ],
             [
              0.7777777777777778,
              "#fb9f3a"
             ],
             [
              0.8888888888888888,
              "#fdca26"
             ],
             [
              1,
              "#f0f921"
             ]
            ],
            "type": "contour"
           }
          ],
          "contourcarpet": [
           {
            "colorbar": {
             "outlinewidth": 0,
             "ticks": ""
            },
            "type": "contourcarpet"
           }
          ],
          "heatmap": [
           {
            "colorbar": {
             "outlinewidth": 0,
             "ticks": ""
            },
            "colorscale": [
             [
              0,
              "#0d0887"
             ],
             [
              0.1111111111111111,
              "#46039f"
             ],
             [
              0.2222222222222222,
              "#7201a8"
             ],
             [
              0.3333333333333333,
              "#9c179e"
             ],
             [
              0.4444444444444444,
              "#bd3786"
             ],
             [
              0.5555555555555556,
              "#d8576b"
             ],
             [
              0.6666666666666666,
              "#ed7953"
             ],
             [
              0.7777777777777778,
              "#fb9f3a"
             ],
             [
              0.8888888888888888,
              "#fdca26"
             ],
             [
              1,
              "#f0f921"
             ]
            ],
            "type": "heatmap"
           }
          ],
          "heatmapgl": [
           {
            "colorbar": {
             "outlinewidth": 0,
             "ticks": ""
            },
            "colorscale": [
             [
              0,
              "#0d0887"
             ],
             [
              0.1111111111111111,
              "#46039f"
             ],
             [
              0.2222222222222222,
              "#7201a8"
             ],
             [
              0.3333333333333333,
              "#9c179e"
             ],
             [
              0.4444444444444444,
              "#bd3786"
             ],
             [
              0.5555555555555556,
              "#d8576b"
             ],
             [
              0.6666666666666666,
              "#ed7953"
             ],
             [
              0.7777777777777778,
              "#fb9f3a"
             ],
             [
              0.8888888888888888,
              "#fdca26"
             ],
             [
              1,
              "#f0f921"
             ]
            ],
            "type": "heatmapgl"
           }
          ],
          "histogram": [
           {
            "marker": {
             "pattern": {
              "fillmode": "overlay",
              "size": 10,
              "solidity": 0.2
             }
            },
            "type": "histogram"
           }
          ],
          "histogram2d": [
           {
            "colorbar": {
             "outlinewidth": 0,
             "ticks": ""
            },
            "colorscale": [
             [
              0,
              "#0d0887"
             ],
             [
              0.1111111111111111,
              "#46039f"
             ],
             [
              0.2222222222222222,
              "#7201a8"
             ],
             [
              0.3333333333333333,
              "#9c179e"
             ],
             [
              0.4444444444444444,
              "#bd3786"
             ],
             [
              0.5555555555555556,
              "#d8576b"
             ],
             [
              0.6666666666666666,
              "#ed7953"
             ],
             [
              0.7777777777777778,
              "#fb9f3a"
             ],
             [
              0.8888888888888888,
              "#fdca26"
             ],
             [
              1,
              "#f0f921"
             ]
            ],
            "type": "histogram2d"
           }
          ],
          "histogram2dcontour": [
           {
            "colorbar": {
             "outlinewidth": 0,
             "ticks": ""
            },
            "colorscale": [
             [
              0,
              "#0d0887"
             ],
             [
              0.1111111111111111,
              "#46039f"
             ],
             [
              0.2222222222222222,
              "#7201a8"
             ],
             [
              0.3333333333333333,
              "#9c179e"
             ],
             [
              0.4444444444444444,
              "#bd3786"
             ],
             [
              0.5555555555555556,
              "#d8576b"
             ],
             [
              0.6666666666666666,
              "#ed7953"
             ],
             [
              0.7777777777777778,
              "#fb9f3a"
             ],
             [
              0.8888888888888888,
              "#fdca26"
             ],
             [
              1,
              "#f0f921"
             ]
            ],
            "type": "histogram2dcontour"
           }
          ],
          "mesh3d": [
           {
            "colorbar": {
             "outlinewidth": 0,
             "ticks": ""
            },
            "type": "mesh3d"
           }
          ],
          "parcoords": [
           {
            "line": {
             "colorbar": {
              "outlinewidth": 0,
              "ticks": ""
             }
            },
            "type": "parcoords"
           }
          ],
          "pie": [
           {
            "automargin": true,
            "type": "pie"
           }
          ],
          "scatter": [
           {
            "fillpattern": {
             "fillmode": "overlay",
             "size": 10,
             "solidity": 0.2
            },
            "type": "scatter"
           }
          ],
          "scatter3d": [
           {
            "line": {
             "colorbar": {
              "outlinewidth": 0,
              "ticks": ""
             }
            },
            "marker": {
             "colorbar": {
              "outlinewidth": 0,
              "ticks": ""
             }
            },
            "type": "scatter3d"
           }
          ],
          "scattercarpet": [
           {
            "marker": {
             "colorbar": {
              "outlinewidth": 0,
              "ticks": ""
             }
            },
            "type": "scattercarpet"
           }
          ],
          "scattergeo": [
           {
            "marker": {
             "colorbar": {
              "outlinewidth": 0,
              "ticks": ""
             }
            },
            "type": "scattergeo"
           }
          ],
          "scattergl": [
           {
            "marker": {
             "colorbar": {
              "outlinewidth": 0,
              "ticks": ""
             }
            },
            "type": "scattergl"
           }
          ],
          "scattermapbox": [
           {
            "marker": {
             "colorbar": {
              "outlinewidth": 0,
              "ticks": ""
             }
            },
            "type": "scattermapbox"
           }
          ],
          "scatterpolar": [
           {
            "marker": {
             "colorbar": {
              "outlinewidth": 0,
              "ticks": ""
             }
            },
            "type": "scatterpolar"
           }
          ],
          "scatterpolargl": [
           {
            "marker": {
             "colorbar": {
              "outlinewidth": 0,
              "ticks": ""
             }
            },
            "type": "scatterpolargl"
           }
          ],
          "scatterternary": [
           {
            "marker": {
             "colorbar": {
              "outlinewidth": 0,
              "ticks": ""
             }
            },
            "type": "scatterternary"
           }
          ],
          "surface": [
           {
            "colorbar": {
             "outlinewidth": 0,
             "ticks": ""
            },
            "colorscale": [
             [
              0,
              "#0d0887"
             ],
             [
              0.1111111111111111,
              "#46039f"
             ],
             [
              0.2222222222222222,
              "#7201a8"
             ],
             [
              0.3333333333333333,
              "#9c179e"
             ],
             [
              0.4444444444444444,
              "#bd3786"
             ],
             [
              0.5555555555555556,
              "#d8576b"
             ],
             [
              0.6666666666666666,
              "#ed7953"
             ],
             [
              0.7777777777777778,
              "#fb9f3a"
             ],
             [
              0.8888888888888888,
              "#fdca26"
             ],
             [
              1,
              "#f0f921"
             ]
            ],
            "type": "surface"
           }
          ],
          "table": [
           {
            "cells": {
             "fill": {
              "color": "#EBF0F8"
             },
             "line": {
              "color": "white"
             }
            },
            "header": {
             "fill": {
              "color": "#C8D4E3"
             },
             "line": {
              "color": "white"
             }
            },
            "type": "table"
           }
          ]
         },
         "layout": {
          "annotationdefaults": {
           "arrowcolor": "#2a3f5f",
           "arrowhead": 0,
           "arrowwidth": 1
          },
          "autotypenumbers": "strict",
          "coloraxis": {
           "colorbar": {
            "outlinewidth": 0,
            "ticks": ""
           }
          },
          "colorscale": {
           "diverging": [
            [
             0,
             "#8e0152"
            ],
            [
             0.1,
             "#c51b7d"
            ],
            [
             0.2,
             "#de77ae"
            ],
            [
             0.3,
             "#f1b6da"
            ],
            [
             0.4,
             "#fde0ef"
            ],
            [
             0.5,
             "#f7f7f7"
            ],
            [
             0.6,
             "#e6f5d0"
            ],
            [
             0.7,
             "#b8e186"
            ],
            [
             0.8,
             "#7fbc41"
            ],
            [
             0.9,
             "#4d9221"
            ],
            [
             1,
             "#276419"
            ]
           ],
           "sequential": [
            [
             0,
             "#0d0887"
            ],
            [
             0.1111111111111111,
             "#46039f"
            ],
            [
             0.2222222222222222,
             "#7201a8"
            ],
            [
             0.3333333333333333,
             "#9c179e"
            ],
            [
             0.4444444444444444,
             "#bd3786"
            ],
            [
             0.5555555555555556,
             "#d8576b"
            ],
            [
             0.6666666666666666,
             "#ed7953"
            ],
            [
             0.7777777777777778,
             "#fb9f3a"
            ],
            [
             0.8888888888888888,
             "#fdca26"
            ],
            [
             1,
             "#f0f921"
            ]
           ],
           "sequentialminus": [
            [
             0,
             "#0d0887"
            ],
            [
             0.1111111111111111,
             "#46039f"
            ],
            [
             0.2222222222222222,
             "#7201a8"
            ],
            [
             0.3333333333333333,
             "#9c179e"
            ],
            [
             0.4444444444444444,
             "#bd3786"
            ],
            [
             0.5555555555555556,
             "#d8576b"
            ],
            [
             0.6666666666666666,
             "#ed7953"
            ],
            [
             0.7777777777777778,
             "#fb9f3a"
            ],
            [
             0.8888888888888888,
             "#fdca26"
            ],
            [
             1,
             "#f0f921"
            ]
           ]
          },
          "colorway": [
           "#636efa",
           "#EF553B",
           "#00cc96",
           "#ab63fa",
           "#FFA15A",
           "#19d3f3",
           "#FF6692",
           "#B6E880",
           "#FF97FF",
           "#FECB52"
          ],
          "font": {
           "color": "#2a3f5f"
          },
          "geo": {
           "bgcolor": "white",
           "lakecolor": "white",
           "landcolor": "#E5ECF6",
           "showlakes": true,
           "showland": true,
           "subunitcolor": "white"
          },
          "hoverlabel": {
           "align": "left"
          },
          "hovermode": "closest",
          "mapbox": {
           "style": "light"
          },
          "paper_bgcolor": "white",
          "plot_bgcolor": "#E5ECF6",
          "polar": {
           "angularaxis": {
            "gridcolor": "white",
            "linecolor": "white",
            "ticks": ""
           },
           "bgcolor": "#E5ECF6",
           "radialaxis": {
            "gridcolor": "white",
            "linecolor": "white",
            "ticks": ""
           }
          },
          "scene": {
           "xaxis": {
            "backgroundcolor": "#E5ECF6",
            "gridcolor": "white",
            "gridwidth": 2,
            "linecolor": "white",
            "showbackground": true,
            "ticks": "",
            "zerolinecolor": "white"
           },
           "yaxis": {
            "backgroundcolor": "#E5ECF6",
            "gridcolor": "white",
            "gridwidth": 2,
            "linecolor": "white",
            "showbackground": true,
            "ticks": "",
            "zerolinecolor": "white"
           },
           "zaxis": {
            "backgroundcolor": "#E5ECF6",
            "gridcolor": "white",
            "gridwidth": 2,
            "linecolor": "white",
            "showbackground": true,
            "ticks": "",
            "zerolinecolor": "white"
           }
          },
          "shapedefaults": {
           "line": {
            "color": "#2a3f5f"
           }
          },
          "ternary": {
           "aaxis": {
            "gridcolor": "white",
            "linecolor": "white",
            "ticks": ""
           },
           "baxis": {
            "gridcolor": "white",
            "linecolor": "white",
            "ticks": ""
           },
           "bgcolor": "#E5ECF6",
           "caxis": {
            "gridcolor": "white",
            "linecolor": "white",
            "ticks": ""
           }
          },
          "title": {
           "x": 0.05
          },
          "xaxis": {
           "automargin": true,
           "gridcolor": "white",
           "linecolor": "white",
           "ticks": "",
           "title": {
            "standoff": 15
           },
           "zerolinecolor": "white",
           "zerolinewidth": 2
          },
          "yaxis": {
           "automargin": true,
           "gridcolor": "white",
           "linecolor": "white",
           "ticks": "",
           "title": {
            "standoff": 15
           },
           "zerolinecolor": "white",
           "zerolinewidth": 2
          }
         }
        },
        "title": {
         "text": "Customer Clusters: Spent vs Income"
        },
        "xaxis": {
         "anchor": "y",
         "domain": [
          0,
          1
         ],
         "title": {
          "text": "Spent"
         }
        },
        "yaxis": {
         "anchor": "x",
         "domain": [
          0,
          1
         ],
         "title": {
          "text": "Income"
         }
        }
       }
      }
     },
     "metadata": {},
     "output_type": "display_data"
    }
   ],
   "source": [
    "# Create scatter plot\n",
    "fig = px.scatter(\n",
    "    data_frame=X_pca,\n",
    "    x=\"PC1\",\n",
    "    y=\"PC2\",\n",
    "    color=labels.astype(str),\n",
    "    title=\"Customer Clusters: Spent vs Income\"\n",
    ")\n",
    "fig.update_layout(xaxis_title=\"Spent\", \n",
    "                  yaxis_title=\"Income\")\n",
    "fig.show()"
   ]
  }
 ],
 "metadata": {
  "kernelspec": {
   "display_name": "Python 3",
   "language": "python",
   "name": "python3"
  },
  "language_info": {
   "codemirror_mode": {
    "name": "ipython",
    "version": 3
   },
   "file_extension": ".py",
   "mimetype": "text/x-python",
   "name": "python",
   "nbconvert_exporter": "python",
   "pygments_lexer": "ipython3",
   "version": "3.12.3"
  }
 },
 "nbformat": 4,
 "nbformat_minor": 5
}
